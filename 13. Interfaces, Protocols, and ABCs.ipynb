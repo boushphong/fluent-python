{
 "cells": [
  {
   "cell_type": "markdown",
   "source": [
    "## Interfaces, Protocols, and ABCs"
   ],
   "metadata": {
    "collapsed": false
   }
  },
  {
   "cell_type": "markdown",
   "source": [
    "Implementing a full protocol may require several methods, but often it is OK to implement only part of it. Consider the Vowels"
   ],
   "metadata": {
    "collapsed": false
   }
  },
  {
   "cell_type": "code",
   "execution_count": 1,
   "outputs": [],
   "source": [
    "class Vowels:\n",
    "   def __getitem__(self, i):\n",
    "       return 'AEIOU'[i]"
   ],
   "metadata": {
    "collapsed": false
   }
  },
  {
   "cell_type": "code",
   "execution_count": 2,
   "outputs": [],
   "source": [
    "v = Vowels()"
   ],
   "metadata": {
    "collapsed": false
   }
  },
  {
   "cell_type": "code",
   "execution_count": 3,
   "outputs": [
    {
     "data": {
      "text/plain": "('A', 'U')"
     },
     "execution_count": 3,
     "metadata": {},
     "output_type": "execute_result"
    }
   ],
   "source": [
    "v[0], v[-1]"
   ],
   "metadata": {
    "collapsed": false
   }
  },
  {
   "cell_type": "code",
   "execution_count": 4,
   "outputs": [
    {
     "name": "stdout",
     "output_type": "stream",
     "text": [
      "A\n",
      "E\n",
      "I\n",
      "O\n",
      "U\n"
     ]
    }
   ],
   "source": [
    "for c in v:\n",
    "    print(c)"
   ],
   "metadata": {
    "collapsed": false
   }
  },
  {
   "cell_type": "code",
   "execution_count": 5,
   "outputs": [
    {
     "data": {
      "text/plain": "(True, False)"
     },
     "execution_count": 5,
     "metadata": {},
     "output_type": "execute_result"
    }
   ],
   "source": [
    "'E' in v, 'Z' in v"
   ],
   "metadata": {
    "collapsed": false
   }
  },
  {
   "cell_type": "markdown",
   "source": [
    "Implementing `__getitem__` is enough to allow retrieving items by index, and also to support iteration and the `in` operator.\n",
    "Eventhough, we don't implement the `__contains__` method. Python is smart enough to know that by implementing `__getitem__`, an object could also inherit from the `__contains__` interface too.\n",
    "\n",
    "Vowels class does not inherit from `abc.Sequence` and it only implements `__getitem__`.\n",
    "There is no `__iter__` method, yet Vowels instances are iterable because—as a fallback—if Python finds a `__getitem__` method, it tries to iterate over the object by calling that method with integer indexes starting with 0. Because Python is smart enough to iterate over Vowels instances, it can also make the in operator work even when the `__contains__` method is missing: it does a sequential scan to check if an item is present.\n",
    "\n",
    "In summary, given the importance of sequence-like data structures, Python manages to make iteration and the in operator work by invoking `__getitem__` when `__iter__` and `__contains__` are unavailable."
   ],
   "metadata": {
    "collapsed": false
   }
  },
  {
   "cell_type": "markdown",
   "source": [
    "### Monkey-Patching"
   ],
   "metadata": {
    "collapsed": false
   }
  },
  {
   "cell_type": "markdown",
   "source": [
    "Monkey patching is dynamically changing a module, class, or function at runtime, to add features or fix bugs. For example, the `gevent` networking library monkey patches parts of Python’s standard library to allow lightweight concurrency without threads or `async/await`."
   ],
   "metadata": {
    "collapsed": false
   }
  },
  {
   "cell_type": "code",
   "execution_count": 7,
   "outputs": [],
   "source": [
    "import collections\n",
    "\n",
    "Card = collections.namedtuple('Card', ['rank', 'suit'])\n",
    "\n",
    "class FrenchDeck:\n",
    "    ranks = [str(n) for n in range(2, 11)] + list('JQKA')\n",
    "    suits = 'spades diamonds clubs hearts'.split()\n",
    "\n",
    "    def __init__(self):\n",
    "        self._cards = [Card(rank, suit) for suit in self.suits\n",
    "                                        for rank in self.ranks]\n",
    "\n",
    "    def __len__(self):\n",
    "        return len(self._cards)\n",
    "\n",
    "    def __getitem__(self, position):\n",
    "        return self._cards[position]"
   ],
   "metadata": {
    "collapsed": false
   }
  },
  {
   "cell_type": "markdown",
   "source": [
    "The FrenchDeck class is missing an essential feature: it cannot be shuffled because it doesn't support the `__setitem__` interface. The problem is that shuffle operates in place, by swapping items inside the collection, and FrenchDeck only implements the immutable sequence protocol. Mutable sequences must also provide a `__setitem__` method."
   ],
   "metadata": {
    "collapsed": false
   }
  },
  {
   "cell_type": "code",
   "execution_count": 8,
   "outputs": [
    {
     "ename": "TypeError",
     "evalue": "'FrenchDeck' object does not support item assignment",
     "output_type": "error",
     "traceback": [
      "\u001B[0;31m---------------------------------------------------------------------------\u001B[0m",
      "\u001B[0;31mTypeError\u001B[0m                                 Traceback (most recent call last)",
      "Cell \u001B[0;32mIn[8], line 4\u001B[0m\n\u001B[1;32m      1\u001B[0m \u001B[38;5;28;01mfrom\u001B[39;00m \u001B[38;5;21;01mrandom\u001B[39;00m \u001B[38;5;28;01mimport\u001B[39;00m shuffle\n\u001B[1;32m      3\u001B[0m deck \u001B[38;5;241m=\u001B[39m FrenchDeck()\n\u001B[0;32m----> 4\u001B[0m \u001B[43mshuffle\u001B[49m\u001B[43m(\u001B[49m\u001B[43mdeck\u001B[49m\u001B[43m)\u001B[49m\n",
      "File \u001B[0;32m/opt/homebrew/Cellar/python@3.10/3.10.9/Frameworks/Python.framework/Versions/3.10/lib/python3.10/random.py:394\u001B[0m, in \u001B[0;36mRandom.shuffle\u001B[0;34m(self, x, random)\u001B[0m\n\u001B[1;32m    391\u001B[0m     \u001B[38;5;28;01mfor\u001B[39;00m i \u001B[38;5;129;01min\u001B[39;00m \u001B[38;5;28mreversed\u001B[39m(\u001B[38;5;28mrange\u001B[39m(\u001B[38;5;241m1\u001B[39m, \u001B[38;5;28mlen\u001B[39m(x))):\n\u001B[1;32m    392\u001B[0m         \u001B[38;5;66;03m# pick an element in x[:i+1] with which to exchange x[i]\u001B[39;00m\n\u001B[1;32m    393\u001B[0m         j \u001B[38;5;241m=\u001B[39m randbelow(i \u001B[38;5;241m+\u001B[39m \u001B[38;5;241m1\u001B[39m)\n\u001B[0;32m--> 394\u001B[0m         x[i], x[j] \u001B[38;5;241m=\u001B[39m x[j], x[i]\n\u001B[1;32m    395\u001B[0m \u001B[38;5;28;01melse\u001B[39;00m:\n\u001B[1;32m    396\u001B[0m     _warn(\u001B[38;5;124m'\u001B[39m\u001B[38;5;124mThe *random* parameter to shuffle() has been deprecated\u001B[39m\u001B[38;5;130;01m\\n\u001B[39;00m\u001B[38;5;124m'\u001B[39m\n\u001B[1;32m    397\u001B[0m           \u001B[38;5;124m'\u001B[39m\u001B[38;5;124msince Python 3.9 and will be removed in a subsequent \u001B[39m\u001B[38;5;124m'\u001B[39m\n\u001B[1;32m    398\u001B[0m           \u001B[38;5;124m'\u001B[39m\u001B[38;5;124mversion.\u001B[39m\u001B[38;5;124m'\u001B[39m,\n\u001B[1;32m    399\u001B[0m           \u001B[38;5;167;01mDeprecationWarning\u001B[39;00m, \u001B[38;5;241m2\u001B[39m)\n",
      "\u001B[0;31mTypeError\u001B[0m: 'FrenchDeck' object does not support item assignment"
     ]
    }
   ],
   "source": [
    "from random import shuffle\n",
    "\n",
    "deck = FrenchDeck()\n",
    "shuffle(deck) # This will throw an Error"
   ],
   "metadata": {
    "collapsed": false
   }
  },
  {
   "cell_type": "markdown",
   "source": [
    "Because Python is dynamic, we can fix this at runtime, even at the interactive console."
   ],
   "metadata": {
    "collapsed": false
   }
  },
  {
   "cell_type": "code",
   "execution_count": 12,
   "outputs": [
    {
     "data": {
      "text/plain": "[Card(rank='2', suit='spades'),\n Card(rank='3', suit='spades'),\n Card(rank='4', suit='spades'),\n Card(rank='5', suit='spades'),\n Card(rank='6', suit='spades'),\n Card(rank='7', suit='spades'),\n Card(rank='8', suit='spades'),\n Card(rank='9', suit='spades')]"
     },
     "execution_count": 12,
     "metadata": {},
     "output_type": "execute_result"
    }
   ],
   "source": [
    "from random import shuffle\n",
    "\n",
    "deck = FrenchDeck()\n",
    "deck._cards[:8]"
   ],
   "metadata": {
    "collapsed": false
   }
  },
  {
   "cell_type": "code",
   "execution_count": 13,
   "outputs": [
    {
     "data": {
      "text/plain": "[Card(rank='4', suit='diamonds'),\n Card(rank='4', suit='hearts'),\n Card(rank='8', suit='clubs'),\n Card(rank='5', suit='diamonds'),\n Card(rank='6', suit='spades'),\n Card(rank='3', suit='clubs'),\n Card(rank='K', suit='clubs'),\n Card(rank='4', suit='spades')]"
     },
     "execution_count": 13,
     "metadata": {},
     "output_type": "execute_result"
    }
   ],
   "source": [
    "def set_card(deck, position, card):\n",
    "    deck._cards[position] = card\n",
    "\n",
    "FrenchDeck.__setitem__ = set_card # Monkey-patching objects\n",
    "\n",
    "shuffle(deck)\n",
    "deck[:8]"
   ],
   "metadata": {
    "collapsed": false
   }
  },
  {
   "cell_type": "markdown",
   "source": [
    "The trick is that `set_card` knows that the deck object has an attribute named `_cards`, and `_cards` must be a mutable sequence. The set_card function is then attached to the FrenchDeck class as the `__setitem__` special method."
   ],
   "metadata": {
    "collapsed": false
   }
  },
  {
   "cell_type": "markdown",
   "source": [
    "## Defensive Programming and “Fail Fast”"
   ],
   "metadata": {
    "collapsed": false
   }
  },
  {
   "cell_type": "markdown",
   "source": [
    "Many bugs cannot be caught except at runtime—even in mainstream statically typed languages. In a dynamically typed language, “fail fast” is excellent advice for safer and easier-to-maintain programs. Failing fast means raising runtime errors as soon as possible, for example, rejecting invalid arguments right at the beginning of a function body.\n",
    "\n",
    "Here is one example: when you write code that accepts a sequence of items to process internally as a list, don’t enforce a list argument by type checking. Instead, take the argument and immediately build a list from it"
   ],
   "metadata": {
    "collapsed": false
   }
  },
  {
   "cell_type": "code",
   "execution_count": 15,
   "outputs": [],
   "source": [
    "def __init__(self, iterable):\n",
    "    self._balls = list(iterable)"
   ],
   "metadata": {
    "collapsed": false
   }
  },
  {
   "cell_type": "markdown",
   "source": [
    "That way you make your code more flexible, because the `list()` constructor handles any iterable that fits in memory. If the argument is not iterable, the call will fail fast with a very clear `TypeError` exception, right when the object is initialized. If you want to be more explict, you can wrap the `list()` call with `try/except` to customize the error message.\n",
    "\n",
    "If you don’t catch the invalid argument in the class constructor, the program will blow up later, when some other method of the class needs to operate on `self._balls` and it is not a `list`. Then the root cause will be harder to find.\n",
    "\n",
    "Of course, calling `list()` on the argument would be bad if the data shouldn’t be copied, either because it’s too large or because the function, by design, needs to change it in place for the benefit of the caller, like `random.shuffle` does. In that case, a runtime check like `isinstance(x, abc.MutableSequence)` would be the way to go.\n",
    "\n",
    "If you are afraid to get an infinite generator—not a common issue—you can begin by calling `len()` on the argument. This would reject iterators, while safely dealing with tuples, arrays, and other existing or future classes that fully implement the `Sequence` interface. Calling `len()` is usually very cheap, and an invalid argument will raise an error immediately.\n",
    "\n",
    "On the other hand, if any iterable is acceptable, then call `iter(x)` as soon as possible to obtain an iterator.\n",
    "\n",
    "In this case, a type hint could catch some problems earlier, but not all problems. Recall that the type `Any` is consistent-with every other type. Type inference may cause a variable to be tagged with the `Any` type. When that happens, the type checker is in the dark. In addition, type hints are not enforced at runtime. Fail fast is the last line of defense.\n",
    "\n",
    "Defensive code leveraging duck types can also include logic to handle different types without using `isinstance()` or `hasattr()` tests.\n",
    "\n",
    "```\n",
    "try:  1\n",
    "    field_names = field_names.replace(',', ' ').split()  2\n",
    "except AttributeError:  3\n",
    "    pass  4\n",
    "field_names = tuple(field_names)  5\n",
    "if not all(s.isidentifier() for s in field_names):  6\n",
    "    raise ValueError('field_names must all be valid identifiers')\n",
    "```\n",
    "\n",
    "1. Assume it’s a string (EAFP = it’s easier to ask forgiveness than permission).\n",
    "\n",
    "2. Convert commas to spaces and split the result into a list of names.\n",
    "\n",
    "3. Sorry, field_names doesn’t quack like a str: it has no .replace, or it returns something we can’t .split.\n",
    "\n",
    "4. If AttributeError was raised, then field_names is not a str and we assume it was already an iterable of names.\n",
    "\n",
    "5. To make sure it’s an iterable and to keep our own copy, create a tuple out of what we have. A tuple is more compact than list, and it also prevents my code from changing the names by mistake.\n",
    "\n",
    "6. Use str.isidentifier to ensure every name is valid."
   ],
   "metadata": {
    "collapsed": false
   }
  },
  {
   "cell_type": "markdown",
   "source": [
    "# Goose Typing"
   ],
   "metadata": {
    "collapsed": false
   }
  },
  {
   "cell_type": "markdown",
   "source": [
    "Python doesn’t have an `interface` keyword. We use abstract base classes (ABCs) to define interfaces for explicit type checking at runtime—also supported by static type checkers.\n",
    "\n",
    "What goose typing means is: `isinstance(obj, cls)` is now just fine ... as long as `cls` is an abstract base class—in other words, cls’s metaclass is `abc.ABCMeta`."
   ],
   "metadata": {
    "collapsed": false
   }
  },
  {
   "cell_type": "code",
   "execution_count": 16,
   "outputs": [
    {
     "data": {
      "text/plain": "True"
     },
     "execution_count": 16,
     "metadata": {},
     "output_type": "execute_result"
    }
   ],
   "source": [
    "class Struggle:\n",
    "    def __len__(self):\n",
    "        return 23\n",
    "\n",
    "from collections import abc\n",
    "isinstance(Struggle(), abc.Sized)"
   ],
   "metadata": {
    "collapsed": false
   }
  },
  {
   "cell_type": "markdown",
   "source": [
    "`abc.Sized` recognizes Struggle as “a subclass,” with no need for registration, as implementing the special method named `__len__` is all it takes\n",
    "\n",
    "To summarize, goose typing entails:\n",
    "\n",
    "- Subclassing from ABCs to make it explict that you are implementing a previously defined interface.\n",
    "\n",
    "- Runtime type checking using ABCs instead of concrete classes as the second argument for isinstance and issubclass."
   ],
   "metadata": {
    "collapsed": false
   }
  },
  {
   "cell_type": "markdown",
   "source": [
    "## Subclassing an ABC"
   ],
   "metadata": {
    "collapsed": false
   }
  },
  {
   "cell_type": "code",
   "execution_count": 17,
   "outputs": [],
   "source": [
    "from collections import namedtuple, abc\n",
    "\n",
    "Card = namedtuple('Card', ['rank', 'suit'])\n",
    "\n",
    "class FrenchDeck2(abc.MutableSequence):\n",
    "    ranks = [str(n) for n in range(2, 11)] + list('JQKA')\n",
    "    suits = 'spades diamonds clubs hearts'.split()\n",
    "\n",
    "    def __init__(self):\n",
    "        self._cards = [Card(rank, suit) for suit in self.suits\n",
    "                                        for rank in self.ranks]\n",
    "\n",
    "    def __len__(self):\n",
    "        return len(self._cards)\n",
    "\n",
    "    def __getitem__(self, position):\n",
    "        return self._cards[position]\n",
    "\n",
    "    def __setitem__(self, position, value):\n",
    "        self._cards[position] = value\n",
    "\n",
    "    def __delitem__(self, position):\n",
    "        del self._cards[position]\n",
    "\n",
    "    def insert(self, position, value):\n",
    "        self._cards.insert(position, value)"
   ],
   "metadata": {
    "collapsed": false
   }
  },
  {
   "cell_type": "markdown",
   "source": [
    "- `__setitem__` is all we need to enable shuffling…\n",
    "\n",
    "- but subclassing MutableSequence forces us to implement `__delitem__`, an abstract method of that ABC.\n",
    "\n",
    "- We are also required to implement `insert`, the third abstract method of `MutableSequence`.\n",
    "\n",
    "Python does not check for the implementation of the abstract methods at import time (when the frenchdeck2.py module is loaded and compiled), but only at runtime when we actually try to instantiate FrenchDeck2.\n",
    "\n",
    "To write FrenchDeck2 as a subclass of `MutableSequence`, I had to pay the price of implementing `__delitem__` and insert, which my examples did not require. In return, `FrenchDeck2` inherits five concrete methods from `Sequence`: `__contains__`, `__iter__`, `__reversed__`, index, and count (Since `MutableSequence` is a subclass of `Sequence`). From `MutableSequence`, it gets another six methods: `append`, `reverse`, `extend`, `pop`, `remove`, and `__iadd__` — which supports the += operator for in place concatenation."
   ],
   "metadata": {
    "collapsed": false
   }
  },
  {
   "cell_type": "markdown",
   "source": [
    "### Example"
   ],
   "metadata": {
    "collapsed": false
   }
  },
  {
   "cell_type": "code",
   "execution_count": 18,
   "outputs": [],
   "source": [
    "import abc\n",
    "\n",
    "class Tombola(abc.ABC):\n",
    "\n",
    "    @abc.abstractmethod\n",
    "    def load(self, iterable):\n",
    "        \"\"\"Add items from an iterable.\"\"\"\n",
    "\n",
    "    @abc.abstractmethod\n",
    "    def pick(self):\n",
    "        \"\"\"Remove item at random, returning it.\n",
    "\n",
    "        This method should raise `LookupError` when the instance is empty.\n",
    "        \"\"\"\n",
    "\n",
    "    def loaded(self):\n",
    "        \"\"\"Return `True` if there's at least 1 item, `False` otherwise.\"\"\"\n",
    "        return bool(self.inspect())\n",
    "\n",
    "    def inspect(self):\n",
    "        \"\"\"Return a sorted tuple with the items currently inside.\"\"\"\n",
    "        items = []\n",
    "        while True:\n",
    "            try:\n",
    "                items.append(self.pick())\n",
    "            except LookupError:\n",
    "                break\n",
    "        self.load(items)\n",
    "        return tuple(items)"
   ],
   "metadata": {
    "collapsed": false
   }
  },
  {
   "cell_type": "code",
   "execution_count": 19,
   "outputs": [],
   "source": [
    "# from tombola import Tombola\n",
    "\n",
    "class Fake(Tombola):\n",
    "    def pick(self):\n",
    "        return 13"
   ],
   "metadata": {
    "collapsed": false
   }
  },
  {
   "cell_type": "code",
   "execution_count": 20,
   "outputs": [
    {
     "data": {
      "text/plain": "__main__.Fake"
     },
     "execution_count": 20,
     "metadata": {},
     "output_type": "execute_result"
    }
   ],
   "source": [
    "Fake"
   ],
   "metadata": {
    "collapsed": false
   }
  },
  {
   "cell_type": "code",
   "execution_count": 21,
   "outputs": [
    {
     "ename": "TypeError",
     "evalue": "Can't instantiate abstract class Fake with abstract method load",
     "output_type": "error",
     "traceback": [
      "\u001B[0;31m---------------------------------------------------------------------------\u001B[0m",
      "\u001B[0;31mTypeError\u001B[0m                                 Traceback (most recent call last)",
      "Cell \u001B[0;32mIn[21], line 1\u001B[0m\n\u001B[0;32m----> 1\u001B[0m \u001B[43mFake\u001B[49m\u001B[43m(\u001B[49m\u001B[43m)\u001B[49m\n",
      "\u001B[0;31mTypeError\u001B[0m: Can't instantiate abstract class Fake with abstract method load"
     ]
    }
   ],
   "source": [
    "Fake()"
   ],
   "metadata": {
    "collapsed": false
   }
  },
  {
   "cell_type": "markdown",
   "source": [
    "`TypeError` is raised when we try to instantiate `Fake`. The message is very clear: `Fake` is considered abstract because it failed to implement `load`, one of the abstract methods declared in the `Tombola` ABC."
   ],
   "metadata": {
    "collapsed": false
   }
  },
  {
   "cell_type": "markdown",
   "source": [
    "## ABC Syntax Details"
   ],
   "metadata": {
    "collapsed": false
   }
  },
  {
   "cell_type": "code",
   "execution_count": 25,
   "outputs": [],
   "source": [
    "class MyABC(abc.ABC):\n",
    "    @classmethod\n",
    "    @abc.abstractmethod\n",
    "    def an_abstract_classmethod(cls):\n",
    "        pass\n",
    "\n",
    "# No other decorator may appear between @abstractmethod and the def statement."
   ],
   "metadata": {
    "collapsed": false
   }
  },
  {
   "cell_type": "markdown",
   "source": [
    "## A Virtual Subclass of an ABC\n",
    "\n",
    "An essential characteristic of goose typing—and one reason why it deserves a waterfowl name is the ability to register a class as a virtual subclass of an ABC, even if it does not inherit from it. When doing so, we promise that the class faithfully implements the interface defined in the ABC—and Python will believe us without checking. If we lie, we’ll be caught by the usual runtime exceptions.\n",
    "\n",
    "This is done by calling a `register` class method on the ABC. The registered class then becomes a virtual subclass of the ABC, and will be recognized as such by `issubclass`, but it does not inherit any methods or attributes from the ABC."
   ],
   "metadata": {
    "collapsed": false
   }
  },
  {
   "cell_type": "code",
   "execution_count": 26,
   "outputs": [],
   "source": [
    "from random import randrange\n",
    "\n",
    "# from tombola import Tombola\n",
    "\n",
    "@Tombola.register\n",
    "class TomboList(list):\n",
    "\n",
    "    def pick(self):\n",
    "        if self:\n",
    "            position = randrange(len(self))\n",
    "            return self.pop(position)\n",
    "        else:\n",
    "            raise LookupError('pop from empty TomboList')\n",
    "\n",
    "    load = list.extend\n",
    "\n",
    "    def loaded(self):\n",
    "        return bool(self)\n",
    "\n",
    "    def inspect(self):\n",
    "        return tuple(self)\n",
    "\n",
    "# Tombola.register(TomboList)"
   ],
   "metadata": {
    "collapsed": false
   }
  },
  {
   "cell_type": "markdown",
   "source": [
    "`Tombolist` is registered as a virtual subclass of `Tombola` and it extends a `list`. When calling `issubclass(TomboList, Tombola)`, the call will return True due to Vitual Subclassing even the `Tombolist` doesn't fully implement the `load` abstract method of the `Tombola`."
   ],
   "metadata": {
    "collapsed": false
   }
  },
  {
   "cell_type": "code",
   "execution_count": 27,
   "outputs": [
    {
     "data": {
      "text/plain": "True"
     },
     "execution_count": 27,
     "metadata": {},
     "output_type": "execute_result"
    }
   ],
   "source": [
    "issubclass(TomboList, Tombola)"
   ],
   "metadata": {
    "collapsed": false
   }
  },
  {
   "cell_type": "code",
   "execution_count": 28,
   "outputs": [],
   "source": [
    "t = TomboList(range(100))"
   ],
   "metadata": {
    "collapsed": false
   }
  },
  {
   "cell_type": "code",
   "execution_count": 29,
   "outputs": [
    {
     "data": {
      "text/plain": "True"
     },
     "execution_count": 29,
     "metadata": {},
     "output_type": "execute_result"
    }
   ],
   "source": [
    "isinstance(t, Tombola)"
   ],
   "metadata": {
    "collapsed": false
   }
  },
  {
   "cell_type": "markdown",
   "source": [
    "Subclassing an ABC or registering with an ABC are both explicit ways of making our classes pass `issubclass` checks — as well as `isinstance` checks, which also rely on `issubclass`. But some ABCs support structural typing as well."
   ],
   "metadata": {
    "collapsed": false
   }
  },
  {
   "cell_type": "markdown",
   "source": [
    "## Structural Typing with ABCs\n",
    "\n",
    "ABCs are mostly used with nominal typing. When a class Sub explicitly inherits from `AnABC`, or is registered with `AnABC`, the name of `AnABC` is linked to the Sub class—and that’s how at runtime, `issubclass(AnABC, Sub)` returns True.\n",
    "\n",
    "In contrast, structural typing is about looking at the structure of an object’s public interface to determine its type: an object is consistent-with a type if it implements the methods defined in the type. Dynamic and static duck typing are two approaches to structural typing.\n",
    "\n",
    "It turns out that some ABCs also support structural typing"
   ],
   "metadata": {
    "collapsed": false
   }
  },
  {
   "cell_type": "code",
   "execution_count": 30,
   "outputs": [
    {
     "data": {
      "text/plain": "(True, True)"
     },
     "execution_count": 30,
     "metadata": {},
     "output_type": "execute_result"
    }
   ],
   "source": [
    "class Struggle:\n",
    "    def __len__(self): return 23\n",
    "\n",
    "from collections import abc\n",
    "\n",
    "isinstance(Struggle(), abc.Sized), issubclass(Struggle, abc.Sized)"
   ],
   "metadata": {
    "collapsed": false
   }
  },
  {
   "cell_type": "markdown",
   "source": [
    "Class `Struggle` is considered a subclass of `abc.Sized` by the `issubclass` function (and, consequently, by isinstance as well) because `abc.Sized` implements a special class method named `__subclasshook__`.\n",
    "\n",
    "The `__subclasshook__` for `Sized` checks whether the class argument has an attribute named _`_len__`. If it does, then it is considered a virtual subclass of `Sized`."
   ],
   "metadata": {
    "collapsed": false
   }
  },
  {
   "cell_type": "code",
   "execution_count": 31,
   "outputs": [],
   "source": [
    "# Sized's Source code\n",
    "from abc import ABCMeta, abstractmethod\n",
    "\n",
    "\n",
    "class Sized(metaclass=ABCMeta):\n",
    "\n",
    "    __slots__ = ()\n",
    "\n",
    "    @abstractmethod\n",
    "    def __len__(self):\n",
    "        return 0\n",
    "\n",
    "    @classmethod\n",
    "    def __subclasshook__(cls, C):\n",
    "        if cls is Sized:\n",
    "            if any(\"__len__\" in B.__dict__ for B in C.__mro__): # 1\n",
    "                return True  # 2\n",
    "        return NotImplemented # 3"
   ],
   "metadata": {
    "collapsed": false
   }
  },
  {
   "cell_type": "markdown",
   "source": [
    "1. If there is an attribute named `__len__` in the `__dict__` of any class listed in `C.__mro__` (i.e., `C` and its superclasses) ...\n",
    "2. ... return True, signaling that `C` is a virtual subclass of `Sized`.\n",
    "3. Otherwise, return `NotImplemented` to let the subclass check proceed.\n",
    "\n",
    "That’s how `__subclasshook__` allows ABCs to support structural typing. You can formalize an interface with an ABC, you can make `isinstance` checks against that ABC, and still have a completely unrelated class pass an `issubclass` check because it implements a certain method (or because it does whatever it takes to convince a `__subclasshook__` to vouch for it)."
   ],
   "metadata": {
    "collapsed": false
   }
  },
  {
   "cell_type": "code",
   "execution_count": null,
   "outputs": [],
   "source": [],
   "metadata": {
    "collapsed": false
   }
  }
 ],
 "metadata": {
  "kernelspec": {
   "display_name": "Python 3",
   "language": "python",
   "name": "python3"
  },
  "language_info": {
   "codemirror_mode": {
    "name": "ipython",
    "version": 2
   },
   "file_extension": ".py",
   "mimetype": "text/x-python",
   "name": "python",
   "nbconvert_exporter": "python",
   "pygments_lexer": "ipython2",
   "version": "2.7.6"
  }
 },
 "nbformat": 4,
 "nbformat_minor": 0
}
