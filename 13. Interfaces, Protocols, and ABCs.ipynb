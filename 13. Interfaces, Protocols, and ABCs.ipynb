{
 "cells": [
  {
   "cell_type": "markdown",
   "source": [
    "## Interfaces, Protocols, and ABCs"
   ],
   "metadata": {
    "collapsed": false
   }
  },
  {
   "cell_type": "markdown",
   "source": [
    "Implementing a full protocol may require several methods, but often it is OK to implement only part of it. Consider the Vowels"
   ],
   "metadata": {
    "collapsed": false
   }
  },
  {
   "cell_type": "code",
   "execution_count": 1,
   "outputs": [],
   "source": [
    "class Vowels:\n",
    "   def __getitem__(self, i):\n",
    "       return 'AEIOU'[i]"
   ],
   "metadata": {
    "collapsed": false
   }
  },
  {
   "cell_type": "code",
   "execution_count": 2,
   "outputs": [],
   "source": [
    "v = Vowels()"
   ],
   "metadata": {
    "collapsed": false
   }
  },
  {
   "cell_type": "code",
   "execution_count": 3,
   "outputs": [
    {
     "data": {
      "text/plain": "('A', 'U')"
     },
     "execution_count": 3,
     "metadata": {},
     "output_type": "execute_result"
    }
   ],
   "source": [
    "v[0], v[-1]"
   ],
   "metadata": {
    "collapsed": false
   }
  },
  {
   "cell_type": "code",
   "execution_count": 4,
   "outputs": [
    {
     "name": "stdout",
     "output_type": "stream",
     "text": [
      "A\n",
      "E\n",
      "I\n",
      "O\n",
      "U\n"
     ]
    }
   ],
   "source": [
    "for c in v:\n",
    "    print(c)"
   ],
   "metadata": {
    "collapsed": false
   }
  },
  {
   "cell_type": "code",
   "execution_count": 5,
   "outputs": [
    {
     "data": {
      "text/plain": "(True, False)"
     },
     "execution_count": 5,
     "metadata": {},
     "output_type": "execute_result"
    }
   ],
   "source": [
    "'E' in v, 'Z' in v"
   ],
   "metadata": {
    "collapsed": false
   }
  },
  {
   "cell_type": "markdown",
   "source": [
    "Implementing `__getitem__` is enough to allow retrieving items by index, and also to support iteration and the `in` operator.\n",
    "Eventhough, we don't implement the `__contains__` method. Python is smart enough to know that by implementing `__getitem__`, an object could also inherit from the `__contains__` interface too.\n",
    "\n",
    "Vowels class does not inherit from `abc.Sequence` and it only implements `__getitem__`.\n",
    "There is no `__iter__` method, yet Vowels instances are iterable because—as a fallback—if Python finds a `__getitem__` method, it tries to iterate over the object by calling that method with integer indexes starting with 0. Because Python is smart enough to iterate over Vowels instances, it can also make the in operator work even when the `__contains__` method is missing: it does a sequential scan to check if an item is present.\n",
    "\n",
    "In summary, given the importance of sequence-like data structures, Python manages to make iteration and the in operator work by invoking `__getitem__` when `__iter__` and `__contains__` are unavailable."
   ],
   "metadata": {
    "collapsed": false
   }
  },
  {
   "cell_type": "markdown",
   "source": [
    "### Monkey-Patching"
   ],
   "metadata": {
    "collapsed": false
   }
  },
  {
   "cell_type": "markdown",
   "source": [
    "Monkey patching is dynamically changing a module, class, or function at runtime, to add features or fix bugs. For example, the `gevent` networking library monkey patches parts of Python’s standard library to allow lightweight concurrency without threads or `async/await`."
   ],
   "metadata": {
    "collapsed": false
   }
  },
  {
   "cell_type": "code",
   "execution_count": 6,
   "outputs": [],
   "source": [
    "import collections\n",
    "\n",
    "Card = collections.namedtuple('Card', ['rank', 'suit'])\n",
    "\n",
    "class FrenchDeck:\n",
    "    ranks = [str(n) for n in range(2, 11)] + list('JQKA')\n",
    "    suits = 'spades diamonds clubs hearts'.split()\n",
    "\n",
    "    def __init__(self):\n",
    "        self._cards = [Card(rank, suit) for suit in self.suits\n",
    "                                        for rank in self.ranks]\n",
    "\n",
    "    def __len__(self):\n",
    "        return len(self._cards)\n",
    "\n",
    "    def __getitem__(self, position):\n",
    "        return self._cards[position]"
   ],
   "metadata": {
    "collapsed": false
   }
  },
  {
   "cell_type": "markdown",
   "source": [
    "The FrenchDeck class is missing an essential feature: it cannot be shuffled because it doesn't support the `__setitem__` interface. The problem is that shuffle operates in place, by swapping items inside the collection, and FrenchDeck only implements the immutable sequence protocol. Mutable sequences must also provide a `__setitem__` method."
   ],
   "metadata": {
    "collapsed": false
   }
  },
  {
   "cell_type": "code",
   "execution_count": 7,
   "outputs": [
    {
     "ename": "TypeError",
     "evalue": "'FrenchDeck' object does not support item assignment",
     "output_type": "error",
     "traceback": [
      "\u001B[0;31m---------------------------------------------------------------------------\u001B[0m",
      "\u001B[0;31mTypeError\u001B[0m                                 Traceback (most recent call last)",
      "Cell \u001B[0;32mIn[7], line 4\u001B[0m\n\u001B[1;32m      1\u001B[0m \u001B[38;5;28;01mfrom\u001B[39;00m \u001B[38;5;21;01mrandom\u001B[39;00m \u001B[38;5;28;01mimport\u001B[39;00m shuffle\n\u001B[1;32m      3\u001B[0m deck \u001B[38;5;241m=\u001B[39m FrenchDeck()\n\u001B[0;32m----> 4\u001B[0m \u001B[43mshuffle\u001B[49m\u001B[43m(\u001B[49m\u001B[43mdeck\u001B[49m\u001B[43m)\u001B[49m\n",
      "File \u001B[0;32m/opt/homebrew/Cellar/python@3.10/3.10.9/Frameworks/Python.framework/Versions/3.10/lib/python3.10/random.py:394\u001B[0m, in \u001B[0;36mRandom.shuffle\u001B[0;34m(self, x, random)\u001B[0m\n\u001B[1;32m    391\u001B[0m     \u001B[38;5;28;01mfor\u001B[39;00m i \u001B[38;5;129;01min\u001B[39;00m \u001B[38;5;28mreversed\u001B[39m(\u001B[38;5;28mrange\u001B[39m(\u001B[38;5;241m1\u001B[39m, \u001B[38;5;28mlen\u001B[39m(x))):\n\u001B[1;32m    392\u001B[0m         \u001B[38;5;66;03m# pick an element in x[:i+1] with which to exchange x[i]\u001B[39;00m\n\u001B[1;32m    393\u001B[0m         j \u001B[38;5;241m=\u001B[39m randbelow(i \u001B[38;5;241m+\u001B[39m \u001B[38;5;241m1\u001B[39m)\n\u001B[0;32m--> 394\u001B[0m         x[i], x[j] \u001B[38;5;241m=\u001B[39m x[j], x[i]\n\u001B[1;32m    395\u001B[0m \u001B[38;5;28;01melse\u001B[39;00m:\n\u001B[1;32m    396\u001B[0m     _warn(\u001B[38;5;124m'\u001B[39m\u001B[38;5;124mThe *random* parameter to shuffle() has been deprecated\u001B[39m\u001B[38;5;130;01m\\n\u001B[39;00m\u001B[38;5;124m'\u001B[39m\n\u001B[1;32m    397\u001B[0m           \u001B[38;5;124m'\u001B[39m\u001B[38;5;124msince Python 3.9 and will be removed in a subsequent \u001B[39m\u001B[38;5;124m'\u001B[39m\n\u001B[1;32m    398\u001B[0m           \u001B[38;5;124m'\u001B[39m\u001B[38;5;124mversion.\u001B[39m\u001B[38;5;124m'\u001B[39m,\n\u001B[1;32m    399\u001B[0m           \u001B[38;5;167;01mDeprecationWarning\u001B[39;00m, \u001B[38;5;241m2\u001B[39m)\n",
      "\u001B[0;31mTypeError\u001B[0m: 'FrenchDeck' object does not support item assignment"
     ]
    }
   ],
   "source": [
    "from random import shuffle\n",
    "\n",
    "deck = FrenchDeck()\n",
    "shuffle(deck) # This will throw an Error"
   ],
   "metadata": {
    "collapsed": false
   }
  },
  {
   "cell_type": "markdown",
   "source": [
    "Because Python is dynamic, we can fix this at runtime, even at the interactive console."
   ],
   "metadata": {
    "collapsed": false
   }
  },
  {
   "cell_type": "code",
   "execution_count": 8,
   "outputs": [
    {
     "data": {
      "text/plain": "[Card(rank='2', suit='spades'),\n Card(rank='3', suit='spades'),\n Card(rank='4', suit='spades'),\n Card(rank='5', suit='spades'),\n Card(rank='6', suit='spades'),\n Card(rank='7', suit='spades'),\n Card(rank='8', suit='spades'),\n Card(rank='9', suit='spades')]"
     },
     "execution_count": 8,
     "metadata": {},
     "output_type": "execute_result"
    }
   ],
   "source": [
    "from random import shuffle\n",
    "\n",
    "deck = FrenchDeck()\n",
    "deck._cards[:8]"
   ],
   "metadata": {
    "collapsed": false
   }
  },
  {
   "cell_type": "code",
   "execution_count": 9,
   "outputs": [
    {
     "data": {
      "text/plain": "[Card(rank='2', suit='clubs'),\n Card(rank='J', suit='clubs'),\n Card(rank='8', suit='spades'),\n Card(rank='8', suit='hearts'),\n Card(rank='8', suit='diamonds'),\n Card(rank='10', suit='spades'),\n Card(rank='A', suit='clubs'),\n Card(rank='3', suit='spades')]"
     },
     "execution_count": 9,
     "metadata": {},
     "output_type": "execute_result"
    }
   ],
   "source": [
    "def set_card(deck, position, card):\n",
    "    deck._cards[position] = card\n",
    "\n",
    "FrenchDeck.__setitem__ = set_card # Monkey-patching objects\n",
    "\n",
    "shuffle(deck)\n",
    "deck[:8]"
   ],
   "metadata": {
    "collapsed": false
   }
  },
  {
   "cell_type": "markdown",
   "source": [
    "The trick is that `set_card` knows that the deck object has an attribute named `_cards`, and `_cards` must be a mutable sequence. The set_card function is then attached to the FrenchDeck class as the `__setitem__` special method."
   ],
   "metadata": {
    "collapsed": false
   }
  },
  {
   "cell_type": "markdown",
   "source": [
    "## Defensive Programming and “Fail Fast”"
   ],
   "metadata": {
    "collapsed": false
   }
  },
  {
   "cell_type": "markdown",
   "source": [
    "Many bugs cannot be caught except at runtime—even in mainstream statically typed languages. In a dynamically typed language, “fail fast” is excellent advice for safer and easier-to-maintain programs. Failing fast means raising runtime errors as soon as possible, for example, rejecting invalid arguments right at the beginning of a function body.\n",
    "\n",
    "Here is one example: when you write code that accepts a sequence of items to process internally as a list, don’t enforce a list argument by type checking. Instead, take the argument and immediately build a list from it"
   ],
   "metadata": {
    "collapsed": false
   }
  },
  {
   "cell_type": "code",
   "execution_count": 10,
   "outputs": [],
   "source": [
    "def __init__(self, iterable):\n",
    "    self._balls = list(iterable)"
   ],
   "metadata": {
    "collapsed": false
   }
  },
  {
   "cell_type": "markdown",
   "source": [
    "That way you make your code more flexible, because the `list()` constructor handles any iterable that fits in memory. If the argument is not iterable, the call will fail fast with a very clear `TypeError` exception, right when the object is initialized. If you want to be more explict, you can wrap the `list()` call with `try/except` to customize the error message.\n",
    "\n",
    "If you don’t catch the invalid argument in the class constructor, the program will blow up later, when some other method of the class needs to operate on `self._balls` and it is not a `list`. Then the root cause will be harder to find.\n",
    "\n",
    "Of course, calling `list()` on the argument would be bad if the data shouldn’t be copied, either because it’s too large or because the function, by design, needs to change it in place for the benefit of the caller, like `random.shuffle` does. In that case, a runtime check like `isinstance(x, abc.MutableSequence)` would be the way to go.\n",
    "\n",
    "If you are afraid to get an infinite generator—not a common issue—you can begin by calling `len()` on the argument. This would reject iterators, while safely dealing with tuples, arrays, and other existing or future classes that fully implement the `Sequence` interface. Calling `len()` is usually very cheap, and an invalid argument will raise an error immediately.\n",
    "\n",
    "On the other hand, if any iterable is acceptable, then call `iter(x)` as soon as possible to obtain an iterator.\n",
    "\n",
    "In this case, a type hint could catch some problems earlier, but not all problems. Recall that the type `Any` is consistent-with every other type. Type inference may cause a variable to be tagged with the `Any` type. When that happens, the type checker is in the dark. In addition, type hints are not enforced at runtime. Fail fast is the last line of defense.\n",
    "\n",
    "Defensive code leveraging duck types can also include logic to handle different types without using `isinstance()` or `hasattr()` tests.\n",
    "\n",
    "```\n",
    "try:  1\n",
    "    field_names = field_names.replace(',', ' ').split()  2\n",
    "except AttributeError:  3\n",
    "    pass  4\n",
    "field_names = tuple(field_names)  5\n",
    "if not all(s.isidentifier() for s in field_names):  6\n",
    "    raise ValueError('field_names must all be valid identifiers')\n",
    "```\n",
    "\n",
    "1. Assume it’s a string (EAFP = it’s easier to ask forgiveness than permission).\n",
    "\n",
    "2. Convert commas to spaces and split the result into a list of names.\n",
    "\n",
    "3. Sorry, field_names doesn’t quack like a str: it has no .replace, or it returns something we can’t .split.\n",
    "\n",
    "4. If AttributeError was raised, then field_names is not a str and we assume it was already an iterable of names.\n",
    "\n",
    "5. To make sure it’s an iterable and to keep our own copy, create a tuple out of what we have. A tuple is more compact than list, and it also prevents my code from changing the names by mistake.\n",
    "\n",
    "6. Use str.isidentifier to ensure every name is valid."
   ],
   "metadata": {
    "collapsed": false
   }
  },
  {
   "cell_type": "markdown",
   "source": [
    "# Goose Typing"
   ],
   "metadata": {
    "collapsed": false
   }
  },
  {
   "cell_type": "markdown",
   "source": [
    "Python doesn’t have an `interface` keyword. We use abstract base classes (ABCs) to define interfaces for explicit type checking at runtime—also supported by static type checkers.\n",
    "\n",
    "What goose typing means is: `isinstance(obj, cls)` is now just fine ... as long as `cls` is an abstract base class—in other words, cls’s metaclass is `abc.ABCMeta`."
   ],
   "metadata": {
    "collapsed": false
   }
  },
  {
   "cell_type": "code",
   "execution_count": 11,
   "outputs": [
    {
     "data": {
      "text/plain": "True"
     },
     "execution_count": 11,
     "metadata": {},
     "output_type": "execute_result"
    }
   ],
   "source": [
    "class Struggle:\n",
    "    def __len__(self):\n",
    "        return 23\n",
    "\n",
    "from collections import abc\n",
    "isinstance(Struggle(), abc.Sized)"
   ],
   "metadata": {
    "collapsed": false
   }
  },
  {
   "cell_type": "markdown",
   "source": [
    "`abc.Sized` recognizes Struggle as “a subclass,” with no need for registration, as implementing the special method named `__len__` is all it takes\n",
    "\n",
    "To summarize, goose typing entails:\n",
    "\n",
    "- Subclassing from ABCs to make it explict that you are implementing a previously defined interface.\n",
    "\n",
    "- Runtime type checking using ABCs instead of concrete classes as the second argument for isinstance and issubclass."
   ],
   "metadata": {
    "collapsed": false
   }
  },
  {
   "cell_type": "markdown",
   "source": [
    "## Subclassing an ABC"
   ],
   "metadata": {
    "collapsed": false
   }
  },
  {
   "cell_type": "code",
   "execution_count": 12,
   "outputs": [],
   "source": [
    "from collections import namedtuple, abc\n",
    "\n",
    "Card = namedtuple('Card', ['rank', 'suit'])\n",
    "\n",
    "class FrenchDeck2(abc.MutableSequence):\n",
    "    ranks = [str(n) for n in range(2, 11)] + list('JQKA')\n",
    "    suits = 'spades diamonds clubs hearts'.split()\n",
    "\n",
    "    def __init__(self):\n",
    "        self._cards = [Card(rank, suit) for suit in self.suits\n",
    "                                        for rank in self.ranks]\n",
    "\n",
    "    def __len__(self):\n",
    "        return len(self._cards)\n",
    "\n",
    "    def __getitem__(self, position):\n",
    "        return self._cards[position]\n",
    "\n",
    "    def __setitem__(self, position, value):\n",
    "        self._cards[position] = value\n",
    "\n",
    "    def __delitem__(self, position):\n",
    "        del self._cards[position]\n",
    "\n",
    "    def insert(self, position, value):\n",
    "        self._cards.insert(position, value)"
   ],
   "metadata": {
    "collapsed": false
   }
  },
  {
   "cell_type": "markdown",
   "source": [
    "- `__setitem__` is all we need to enable shuffling…\n",
    "\n",
    "- but subclassing MutableSequence forces us to implement `__delitem__`, an abstract method of that ABC.\n",
    "\n",
    "- We are also required to implement `insert`, the third abstract method of `MutableSequence`.\n",
    "\n",
    "Python does not check for the implementation of the abstract methods at import time (when the frenchdeck2.py module is loaded and compiled), but only at runtime when we actually try to instantiate FrenchDeck2.\n",
    "\n",
    "To write FrenchDeck2 as a subclass of `MutableSequence`, I had to pay the price of implementing `__delitem__` and insert, which my examples did not require. In return, `FrenchDeck2` inherits five concrete methods from `Sequence`: `__contains__`, `__iter__`, `__reversed__`, index, and count (Since `MutableSequence` is a subclass of `Sequence`). From `MutableSequence`, it gets another six methods: `append`, `reverse`, `extend`, `pop`, `remove`, and `__iadd__` — which supports the += operator for in place concatenation."
   ],
   "metadata": {
    "collapsed": false
   }
  },
  {
   "cell_type": "markdown",
   "source": [
    "### Example"
   ],
   "metadata": {
    "collapsed": false
   }
  },
  {
   "cell_type": "code",
   "execution_count": 13,
   "outputs": [],
   "source": [
    "import abc\n",
    "\n",
    "class Tombola(abc.ABC):\n",
    "\n",
    "    @abc.abstractmethod\n",
    "    def load(self, iterable):\n",
    "        \"\"\"Add items from an iterable.\"\"\"\n",
    "\n",
    "    @abc.abstractmethod\n",
    "    def pick(self):\n",
    "        \"\"\"Remove item at random, returning it.\n",
    "\n",
    "        This method should raise `LookupError` when the instance is empty.\n",
    "        \"\"\"\n",
    "\n",
    "    def loaded(self):\n",
    "        \"\"\"Return `True` if there's at least 1 item, `False` otherwise.\"\"\"\n",
    "        return bool(self.inspect())\n",
    "\n",
    "    def inspect(self):\n",
    "        \"\"\"Return a sorted tuple with the items currently inside.\"\"\"\n",
    "        items = []\n",
    "        while True:\n",
    "            try:\n",
    "                items.append(self.pick())\n",
    "            except LookupError:\n",
    "                break\n",
    "        self.load(items)\n",
    "        return tuple(items)"
   ],
   "metadata": {
    "collapsed": false
   }
  },
  {
   "cell_type": "code",
   "execution_count": 14,
   "outputs": [],
   "source": [
    "# from tombola import Tombola\n",
    "\n",
    "class Fake(Tombola):\n",
    "    def pick(self):\n",
    "        return 13"
   ],
   "metadata": {
    "collapsed": false
   }
  },
  {
   "cell_type": "code",
   "execution_count": 15,
   "outputs": [
    {
     "data": {
      "text/plain": "__main__.Fake"
     },
     "execution_count": 15,
     "metadata": {},
     "output_type": "execute_result"
    }
   ],
   "source": [
    "Fake"
   ],
   "metadata": {
    "collapsed": false
   }
  },
  {
   "cell_type": "code",
   "execution_count": 16,
   "outputs": [
    {
     "ename": "TypeError",
     "evalue": "Can't instantiate abstract class Fake with abstract method load",
     "output_type": "error",
     "traceback": [
      "\u001B[0;31m---------------------------------------------------------------------------\u001B[0m",
      "\u001B[0;31mTypeError\u001B[0m                                 Traceback (most recent call last)",
      "Cell \u001B[0;32mIn[16], line 1\u001B[0m\n\u001B[0;32m----> 1\u001B[0m \u001B[43mFake\u001B[49m\u001B[43m(\u001B[49m\u001B[43m)\u001B[49m\n",
      "\u001B[0;31mTypeError\u001B[0m: Can't instantiate abstract class Fake with abstract method load"
     ]
    }
   ],
   "source": [
    "Fake()"
   ],
   "metadata": {
    "collapsed": false
   }
  },
  {
   "cell_type": "markdown",
   "source": [
    "`TypeError` is raised when we try to instantiate `Fake`. The message is very clear: `Fake` is considered abstract because it failed to implement `load`, one of the abstract methods declared in the `Tombola` ABC."
   ],
   "metadata": {
    "collapsed": false
   }
  },
  {
   "cell_type": "markdown",
   "source": [
    "## ABC Syntax Details"
   ],
   "metadata": {
    "collapsed": false
   }
  },
  {
   "cell_type": "code",
   "execution_count": 17,
   "outputs": [],
   "source": [
    "class MyABC(abc.ABC):\n",
    "    @classmethod\n",
    "    @abc.abstractmethod\n",
    "    def an_abstract_classmethod(cls):\n",
    "        pass\n",
    "\n",
    "# No other decorator may appear between @abstractmethod and the def statement."
   ],
   "metadata": {
    "collapsed": false
   }
  },
  {
   "cell_type": "markdown",
   "source": [
    "## A Virtual Subclass of an ABC\n",
    "\n",
    "An essential characteristic of goose typing—and one reason why it deserves a waterfowl name is the ability to register a class as a virtual subclass of an ABC, even if it does not inherit from it. When doing so, we promise that the class faithfully implements the interface defined in the ABC—and Python will believe us without checking. If we lie, we’ll be caught by the usual runtime exceptions.\n",
    "\n",
    "This is done by calling a `register` class method on the ABC. The registered class then becomes a virtual subclass of the ABC, and will be recognized as such by `issubclass`, but it does not inherit any methods or attributes from the ABC."
   ],
   "metadata": {
    "collapsed": false
   }
  },
  {
   "cell_type": "code",
   "execution_count": 18,
   "outputs": [],
   "source": [
    "from random import randrange\n",
    "\n",
    "# from tombola import Tombola\n",
    "\n",
    "@Tombola.register\n",
    "class TomboList(list):\n",
    "\n",
    "    def pick(self):\n",
    "        if self:\n",
    "            position = randrange(len(self))\n",
    "            return self.pop(position)\n",
    "        else:\n",
    "            raise LookupError('pop from empty TomboList')\n",
    "\n",
    "    load = list.extend\n",
    "\n",
    "    def loaded(self):\n",
    "        return bool(self)\n",
    "\n",
    "    def inspect(self):\n",
    "        return tuple(self)\n",
    "\n",
    "# Tombola.register(TomboList)"
   ],
   "metadata": {
    "collapsed": false
   }
  },
  {
   "cell_type": "markdown",
   "source": [
    "`Tombolist` is registered as a virtual subclass of `Tombola` and it extends a `list`. When calling `issubclass(TomboList, Tombola)`, the call will return True due to Vitual Subclassing even the `Tombolist` doesn't fully implement the `load` abstract method of the `Tombola`."
   ],
   "metadata": {
    "collapsed": false
   }
  },
  {
   "cell_type": "code",
   "execution_count": 19,
   "outputs": [
    {
     "data": {
      "text/plain": "True"
     },
     "execution_count": 19,
     "metadata": {},
     "output_type": "execute_result"
    }
   ],
   "source": [
    "issubclass(TomboList, Tombola)"
   ],
   "metadata": {
    "collapsed": false
   }
  },
  {
   "cell_type": "code",
   "execution_count": 20,
   "outputs": [],
   "source": [
    "t = TomboList(range(100))"
   ],
   "metadata": {
    "collapsed": false
   }
  },
  {
   "cell_type": "code",
   "execution_count": 21,
   "outputs": [
    {
     "data": {
      "text/plain": "True"
     },
     "execution_count": 21,
     "metadata": {},
     "output_type": "execute_result"
    }
   ],
   "source": [
    "isinstance(t, Tombola)"
   ],
   "metadata": {
    "collapsed": false
   }
  },
  {
   "cell_type": "markdown",
   "source": [
    "Subclassing an ABC or registering with an ABC are both explicit ways of making our classes pass `issubclass` checks — as well as `isinstance` checks, which also rely on `issubclass`. But some ABCs support structural typing as well."
   ],
   "metadata": {
    "collapsed": false
   }
  },
  {
   "cell_type": "markdown",
   "source": [
    "## Structural Typing with ABCs\n",
    "\n",
    "ABCs are mostly used with nominal typing. When a class Sub explicitly inherits from `AnABC`, or is registered with `AnABC`, the name of `AnABC` is linked to the Sub class—and that’s how at runtime, `issubclass(AnABC, Sub)` returns True.\n",
    "\n",
    "In contrast, structural typing is about looking at the structure of an object’s public interface to determine its type: an object is consistent-with a type if it implements the methods defined in the type. Dynamic and static duck typing are two approaches to structural typing.\n",
    "\n",
    "It turns out that some ABCs also support structural typing"
   ],
   "metadata": {
    "collapsed": false
   }
  },
  {
   "cell_type": "code",
   "execution_count": 22,
   "outputs": [
    {
     "data": {
      "text/plain": "(True, True)"
     },
     "execution_count": 22,
     "metadata": {},
     "output_type": "execute_result"
    }
   ],
   "source": [
    "class Struggle:\n",
    "    def __len__(self): return 23\n",
    "\n",
    "from collections import abc\n",
    "\n",
    "isinstance(Struggle(), abc.Sized), issubclass(Struggle, abc.Sized)"
   ],
   "metadata": {
    "collapsed": false
   }
  },
  {
   "cell_type": "markdown",
   "source": [
    "Class `Struggle` is considered a subclass of `abc.Sized` by the `issubclass` function (and, consequently, by isinstance as well) because `abc.Sized` implements a special class method named `__subclasshook__`.\n",
    "\n",
    "The `__subclasshook__` for `Sized` checks whether the class argument has an attribute named _`_len__`. If it does, then it is considered a virtual subclass of `Sized`."
   ],
   "metadata": {
    "collapsed": false
   }
  },
  {
   "cell_type": "code",
   "execution_count": 23,
   "outputs": [],
   "source": [
    "# Sized's Source code\n",
    "from abc import ABCMeta, abstractmethod\n",
    "\n",
    "\n",
    "class Sized(metaclass=ABCMeta):\n",
    "\n",
    "    __slots__ = ()\n",
    "\n",
    "    @abstractmethod\n",
    "    def __len__(self):\n",
    "        return 0\n",
    "\n",
    "    @classmethod\n",
    "    def __subclasshook__(cls, C):\n",
    "        if cls is Sized:\n",
    "            if any(\"__len__\" in B.__dict__ for B in C.__mro__): # 1\n",
    "                return True  # 2\n",
    "        return NotImplemented # 3"
   ],
   "metadata": {
    "collapsed": false
   }
  },
  {
   "cell_type": "markdown",
   "source": [
    "1. If there is an attribute named `__len__` in the `__dict__` of any class listed in `C.__mro__` (i.e., `C` and its superclasses) ...\n",
    "2. ... return True, signaling that `C` is a virtual subclass of `Sized`.\n",
    "3. Otherwise, return `NotImplemented` to let the subclass check proceed.\n",
    "\n",
    "That’s how `__subclasshook__` allows ABCs to support structural typing. You can formalize an interface with an ABC, you can make `isinstance` checks against that ABC, and still have a completely unrelated class pass an `issubclass` check because it implements a certain method (or because it does whatever it takes to convince a `__subclasshook__` to vouch for it)."
   ],
   "metadata": {
    "collapsed": false
   }
  },
  {
   "cell_type": "markdown",
   "source": [
    "# Static Protocals"
   ],
   "metadata": {
    "collapsed": false
   }
  },
  {
   "cell_type": "code",
   "execution_count": 24,
   "outputs": [],
   "source": [
    "from typing import TypeVar, Protocol\n",
    "\n",
    "T = TypeVar('T') #1\n",
    "\n",
    "class Repeatable(Protocol):\n",
    "    def __mul__(self: T, repeat_count: int) -> T: ... #2\n",
    "\n",
    "RT = TypeVar('RT', bound=Repeatable) #3\n",
    "\n",
    "def double(x: RT) -> RT: #4\n",
    "    return x * 2"
   ],
   "metadata": {
    "collapsed": false
   }
  },
  {
   "cell_type": "markdown",
   "source": [
    "1. We’ll use this T in the `__mul__` signature.\n",
    "\n",
    "2. `__mul__` is the essence of the `Repeatable` protocol. The self parameter is usually not annotated—its type is assumed to be the class. Here we use `T` to make sure the result type is the same as the type of self. Also, note that `repeat_count` is limited to `int` in this protocol.\n",
    "\n",
    "3. The `RT` type variable is bounded by the `Repeatable` protocol: the type checker will require that the actual type implements `Repeatable`.\n",
    "\n",
    "4. Now the type checker is able to verify that the `x` parameter is an object that can be multiplied by an integer, and the return value has the same type as `x`.\n",
    "\n",
    "__NOTE__: The nominal type of the actual argument `x` given to double is irrelevant as long as it quacks—that is, as long as it implements `__mul__`."
   ],
   "metadata": {
    "collapsed": false
   }
  },
  {
   "cell_type": "markdown",
   "source": [
    "## Runtime Checkable Static Protocols\n",
    "\n",
    "When defining a `typing.Protocol` subclass, you can use the `@runtime_checkable` decorator to make that protocol support `isinstance/issubclass` checks at runtime. This works because `typing.Protocol` is an ABC, therefore it supports the `__subclasshook__` we saw in “Structural Typing with ABCs”."
   ],
   "metadata": {
    "collapsed": false
   }
  },
  {
   "cell_type": "code",
   "execution_count": 25,
   "outputs": [],
   "source": [
    "from typing import runtime_checkable, abstractmethod\n",
    "\n",
    "@runtime_checkable\n",
    "class SupportsComplex(Protocol):\n",
    "    \"\"\"An ABC with one abstract method __complex__.\"\"\"\n",
    "    __slots__ = ()\n",
    "\n",
    "    @abstractmethod\n",
    "    def __complex__(self) -> complex:\n",
    "        pass"
   ],
   "metadata": {
    "collapsed": false
   }
  },
  {
   "cell_type": "markdown",
   "source": [
    "The key is the `__complex__` abstract method. During static type checking, an object will be considered consistent-with the `SupportsComplex` protocol if it implements a `__complex__` method that takes only self and returns a `complex`.\n",
    "\n",
    "Thanks to the `@runtime_checkable` class decorator applied to `SupportsComplex`, that protocol can also be used with `isinstance` checks in the following example:"
   ],
   "metadata": {
    "collapsed": false
   }
  },
  {
   "cell_type": "code",
   "execution_count": 26,
   "outputs": [
    {
     "data": {
      "text/plain": "(False, True)"
     },
     "execution_count": 26,
     "metadata": {},
     "output_type": "execute_result"
    }
   ],
   "source": [
    "from typing import SupportsComplex\n",
    "import numpy as np\n",
    "\n",
    "c64 = np.complex64(3+4j)\n",
    "\n",
    "isinstance(c64, complex), \\\n",
    "    isinstance(c64, SupportsComplex)\n",
    "\n",
    "# c64 is not a complex type, but does implement the __complex__ method"
   ],
   "metadata": {
    "collapsed": false
   }
  },
  {
   "cell_type": "code",
   "execution_count": 27,
   "outputs": [
    {
     "data": {
      "text/plain": "(3+4j)"
     },
     "execution_count": 27,
     "metadata": {},
     "output_type": "execute_result"
    }
   ],
   "source": [
    "c = complex(c64)\n",
    "c"
   ],
   "metadata": {
    "collapsed": false
   }
  },
  {
   "cell_type": "code",
   "execution_count": 28,
   "outputs": [
    {
     "data": {
      "text/plain": "False"
     },
     "execution_count": 28,
     "metadata": {},
     "output_type": "execute_result"
    }
   ],
   "source": [
    "isinstance(c, SupportsComplex)"
   ],
   "metadata": {
    "collapsed": false
   }
  },
  {
   "cell_type": "code",
   "execution_count": 29,
   "outputs": [
    {
     "data": {
      "text/plain": "(3+4j)"
     },
     "execution_count": 29,
     "metadata": {},
     "output_type": "execute_result"
    }
   ],
   "source": [
    "complex(c)"
   ],
   "metadata": {
    "collapsed": false
   }
  },
  {
   "cell_type": "markdown",
   "source": [
    "The complex built-in type does not implement `__complex__`, although `complex(c)` works fine if c is a `complex`."
   ],
   "metadata": {
    "collapsed": false
   }
  },
  {
   "cell_type": "code",
   "execution_count": 30,
   "outputs": [
    {
     "data": {
      "text/plain": "True"
     },
     "execution_count": 30,
     "metadata": {},
     "output_type": "execute_result"
    }
   ],
   "source": [
    "isinstance(c, (complex, SupportsComplex)) # This will check against both interfaces"
   ],
   "metadata": {
    "collapsed": false
   }
  },
  {
   "cell_type": "markdown",
   "source": [
    "An alternative would be to use the `Complex` ABC, defined in the `numbers` module. The built-in `complex` type and the NumPy `complex64` and `complex128` types are all registered as virtual subclasses of `numbers.Complex`, therefore this works:"
   ],
   "metadata": {
    "collapsed": false
   }
  },
  {
   "cell_type": "code",
   "execution_count": 31,
   "outputs": [],
   "source": [
    "import numbers"
   ],
   "metadata": {
    "collapsed": false
   }
  },
  {
   "cell_type": "code",
   "execution_count": 32,
   "outputs": [
    {
     "data": {
      "text/plain": "(True, True)"
     },
     "execution_count": 32,
     "metadata": {},
     "output_type": "execute_result"
    }
   ],
   "source": [
    "isinstance(c, numbers.Complex), \\\n",
    "    isinstance(c64, numbers.Complex)"
   ],
   "metadata": {
    "collapsed": false
   }
  },
  {
   "cell_type": "markdown",
   "source": [
    "Takeaway from `numbers` module\n",
    "- The `numbers` ABCs are fine for runtime type checking, but unsuitable for static typing.\n",
    "- The numeric static protocols `SupportsComplex`, `SupportsFloat`, etc. work well for static typing, but are unreliable for runtime type checking when complex numbers are involved."
   ],
   "metadata": {
    "collapsed": false
   }
  },
  {
   "cell_type": "markdown",
   "source": [
    "## Duck Typing can be your friend"
   ],
   "metadata": {
    "collapsed": false
   }
  },
  {
   "cell_type": "markdown",
   "source": [
    "Very often at runtime, duck typing is the best approach for type checking: instead of calling `isinstance` or `hasattr`, just try the operations you need to do on the object, and handle exceptions as needed. Here is a concrete example."
   ],
   "metadata": {
    "collapsed": false
   }
  },
  {
   "cell_type": "code",
   "execution_count": 33,
   "outputs": [
    {
     "name": "stdout",
     "output_type": "stream",
     "text": [
      "True\n"
     ]
    }
   ],
   "source": [
    "o = complex()\n",
    "\n",
    "if isinstance(o, (complex, SupportsComplex)):\n",
    "    print(\"True\") # do something that requires `o` to be convertible to complex\n",
    "else:\n",
    "    raise TypeError('o must be convertible to complex')"
   ],
   "metadata": {
    "collapsed": false
   }
  },
  {
   "cell_type": "markdown",
   "source": [
    "The goose typing approach would be to use the `numbers.Complex` ABC:"
   ],
   "metadata": {
    "collapsed": false
   }
  },
  {
   "cell_type": "code",
   "execution_count": 34,
   "outputs": [
    {
     "name": "stdout",
     "output_type": "stream",
     "text": [
      "True\n"
     ]
    }
   ],
   "source": [
    "if isinstance(o, numbers.Complex):\n",
    "    print(\"True\") # do something with `o`, an instance of `Complex`\n",
    "else:\n",
    "    raise TypeError('o must be an instance of Complex')"
   ],
   "metadata": {
    "collapsed": false
   }
  },
  {
   "cell_type": "markdown",
   "source": [
    "We can leverage duck typing and do this using the EAFP principle — it’s easier to ask for forgiveness than permission:"
   ],
   "metadata": {
    "collapsed": false
   }
  },
  {
   "cell_type": "code",
   "execution_count": 35,
   "outputs": [],
   "source": [
    "try:\n",
    "    c = complex(o)\n",
    "except TypeError as exc:\n",
    "    raise TypeError('o must be convertible to complex') from exc"
   ],
   "metadata": {
    "collapsed": false
   }
  },
  {
   "cell_type": "markdown",
   "source": [
    "And, if all you’re going to do is raise a `TypeError` anyway, then I’d omit the `try/except/raise` statements and just write this:"
   ],
   "metadata": {
    "collapsed": false
   }
  },
  {
   "cell_type": "code",
   "execution_count": 36,
   "outputs": [],
   "source": [
    "c1 = complex(o) # Will raise an error when o is not convertible"
   ],
   "metadata": {
    "collapsed": false
   }
  },
  {
   "cell_type": "markdown",
   "source": [
    "## Limitations of Runtime Protocol Checks\n",
    "\n",
    "Type hints are generally ignored at runtime, and this also affects the use of `isinstance` or `issubclass` checks against static protocols.\n",
    "\n",
    "For example, any class with a `__float__` method is considered at runtime a virtual subclass of `SupportsFloat`, even if the `__float__` method does not return a `float`."
   ],
   "metadata": {
    "collapsed": false
   }
  },
  {
   "cell_type": "code",
   "execution_count": 37,
   "outputs": [],
   "source": [
    "c2 = 3+4j"
   ],
   "metadata": {
    "collapsed": false
   }
  },
  {
   "cell_type": "code",
   "execution_count": 38,
   "outputs": [
    {
     "data": {
      "text/plain": "complex"
     },
     "execution_count": 38,
     "metadata": {},
     "output_type": "execute_result"
    }
   ],
   "source": [
    "type(c2)"
   ],
   "metadata": {
    "collapsed": false
   }
  },
  {
   "cell_type": "code",
   "execution_count": 39,
   "outputs": [
    {
     "ename": "AttributeError",
     "evalue": "'complex' object has no attribute '__float__'",
     "output_type": "error",
     "traceback": [
      "\u001B[0;31m---------------------------------------------------------------------------\u001B[0m",
      "\u001B[0;31mAttributeError\u001B[0m                            Traceback (most recent call last)",
      "Cell \u001B[0;32mIn[39], line 1\u001B[0m\n\u001B[0;32m----> 1\u001B[0m \u001B[43mc\u001B[49m\u001B[38;5;241;43m.\u001B[39;49m\u001B[38;5;21;43m__float__\u001B[39;49m()\n",
      "\u001B[0;31mAttributeError\u001B[0m: 'complex' object has no attribute '__float__'"
     ]
    }
   ],
   "source": [
    "c.__float__() # In python3.9, complex.__float__ exists only to raise a TypeError. However, the current running is python3.10, which the float method was removed"
   ],
   "metadata": {
    "collapsed": false
   }
  },
  {
   "cell_type": "markdown",
   "source": [
    "Therefore, we have misleading results: the runtime checks against `SupportsFloat` suggest that you can convert a `complex` to `float`, but in fact that raises a `TypeError`."
   ],
   "metadata": {
    "collapsed": false
   }
  },
  {
   "cell_type": "markdown",
   "source": [
    "## Designing a Static Protocol\n",
    "\n",
    "Single-method protocols make static duck typing more useful and flexible. The Go standard library has several interfaces like `Reader`, an interface for `I/O` that requires just a `read` method. After a while, if you realize a more complete protocol is required, you can combine two or more protocols to define a new one.\n",
    "\n",
    "\n"
   ],
   "metadata": {
    "collapsed": false
   }
  },
  {
   "cell_type": "code",
   "execution_count": 40,
   "outputs": [],
   "source": [
    "from typing import Protocol, runtime_checkable, Any\n",
    "\n",
    "@runtime_checkable\n",
    "class RandomPicker(Protocol):\n",
    "    def pick(self) -> Any: ..."
   ],
   "metadata": {
    "collapsed": false
   }
  },
  {
   "cell_type": "code",
   "execution_count": 41,
   "outputs": [],
   "source": [
    "import random\n",
    "from typing import Any, Iterable, TYPE_CHECKING\n",
    "\n",
    "\n",
    "class SimplePicker: #2\n",
    "    def __init__(self, items: Iterable) -> None:\n",
    "        self._items = list(items)\n",
    "        random.shuffle(self._items)\n",
    "\n",
    "    def pick(self) -> Any:\n",
    "        return self._items.pop()\n",
    "\n",
    "def test_isinstance() -> None:\n",
    "    popper: RandomPicker = SimplePicker([1])\n",
    "    assert isinstance(popper, RandomPicker) #6\n",
    "\n",
    "def test_item_type() -> None:\n",
    "    items = [1, 2]\n",
    "    popper = SimplePicker(items)\n",
    "    item = popper.pick()\n",
    "    assert item in items\n",
    "    if TYPE_CHECKING:\n",
    "        reveal_type(item)\n",
    "    assert isinstance(item, int)"
   ],
   "metadata": {
    "collapsed": false
   }
  },
  {
   "cell_type": "markdown",
   "source": [
    "#2. `SimplePicker` implements `RandomPicker` — but it does not subclass it. This is static duck typing in action.\n",
    "#6. This test proves that an instance of `SimplePicker` is also an instance of `RandomPicker`. This works because of the `@runtime_checkable` decorator applied to `RandomPicker`, and because `SimplePicker` has a pick method as required.\n",
    "\n",
    "`reveal_type` is a “magic” function recognized by Mypy. That’s why it is not imported and we can only call it inside if blocks protected by `typing.TYPE_CHECKING`, which is only True in the eyes of a static type checker, but is False at runtime."
   ],
   "metadata": {
    "collapsed": false
   }
  },
  {
   "cell_type": "markdown",
   "source": [
    "## Best Practices for Protocol Design\n",
    "\n",
    "- Narrow protocols are more useful—often such protocols have a single method, rarely more than a couple of methods.\n",
    "\n",
    "Naming Convention\n",
    "- Use plain names for protocols that represent a clear concept (e.g., `Iterator`, `Container`).\n",
    "- Use SupportsX for protocols that provide callable methods (e.g., `SupportsInt`, `SupportsRead`, `SupportsReadSeek`).\n",
    "- Use HasX for protocols that have readable and/or writable attributes or `getter/setter` methods (e.g., `HasItems`, `HasFileno`)."
   ],
   "metadata": {
    "collapsed": false
   }
  },
  {
   "cell_type": "markdown",
   "source": [
    "## Extending a Protocol\n",
    "\n",
    "Extending a static protocol in Python has a few caveats"
   ],
   "metadata": {
    "collapsed": false
   }
  },
  {
   "cell_type": "code",
   "execution_count": 42,
   "outputs": [],
   "source": [
    "from typing import Protocol, runtime_checkable\n",
    "\n",
    "@runtime_checkable  # 1\n",
    "class LoadableRandomPicker(RandomPicker, Protocol):  # 2\n",
    "    def load(self, Iterable) -> None: ...  # 3"
   ],
   "metadata": {
    "collapsed": false
   }
  },
  {
   "cell_type": "markdown",
   "source": [
    "1. If you want the derived protocol to be runtime checkable, you must apply the decorator again—its behavior is not inherited.\n",
    "\n",
    "2. Every protocol must explicitly name `typing.Protocol` as one of its base classes in addition to the protocol we are extending. This is different from the way inheritance works in Python.\n",
    "\n",
    "3. Back to “regular” object-oriented programming: we only need to declare the method that is new in this derived protocol. The `pick` method declaration is inherited from `RandomPicker`."
   ],
   "metadata": {
    "collapsed": false
   }
  },
  {
   "cell_type": "code",
   "execution_count": null,
   "outputs": [],
   "source": [],
   "metadata": {
    "collapsed": false
   }
  }
 ],
 "metadata": {
  "kernelspec": {
   "display_name": "Python 3",
   "language": "python",
   "name": "python3"
  },
  "language_info": {
   "codemirror_mode": {
    "name": "ipython",
    "version": 2
   },
   "file_extension": ".py",
   "mimetype": "text/x-python",
   "name": "python",
   "nbconvert_exporter": "python",
   "pygments_lexer": "ipython2",
   "version": "2.7.6"
  }
 },
 "nbformat": 4,
 "nbformat_minor": 0
}
