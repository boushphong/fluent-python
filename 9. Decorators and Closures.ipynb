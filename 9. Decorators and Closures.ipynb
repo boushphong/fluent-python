{
 "cells": [
  {
   "cell_type": "markdown",
   "source": [
    "## Decorators and Closures"
   ],
   "metadata": {
    "collapsed": false
   }
  },
  {
   "cell_type": "code",
   "execution_count": 1,
   "outputs": [
    {
     "name": "stdout",
     "output_type": "stream",
     "text": [
      "Function some_function took 9.5367431640625e-07 seconds to execute\n"
     ]
    },
    {
     "data": {
      "text/plain": "'Done'"
     },
     "execution_count": 1,
     "metadata": {},
     "output_type": "execute_result"
    }
   ],
   "source": [
    "import time\n",
    "\n",
    "def time_it(func):\n",
    "    def wrapper(*args, **kwargs):\n",
    "        start = time.time()\n",
    "        result = func(*args, **kwargs)\n",
    "        end = time.time()\n",
    "        print(f'Function {func.__name__} took {end - start} seconds to execute')\n",
    "        return result\n",
    "    return wrapper\n",
    "\n",
    "@time_it\n",
    "def some_function():\n",
    "    # Your code here\n",
    "    return \"Done\"\n",
    "\n",
    "some_function()"
   ],
   "metadata": {
    "collapsed": false,
    "ExecuteTime": {
     "end_time": "2023-10-03T11:56:12.360101Z",
     "start_time": "2023-10-03T11:56:12.350529Z"
    }
   }
  },
  {
   "cell_type": "code",
   "execution_count": 2,
   "outputs": [
    {
     "name": "stdout",
     "output_type": "stream",
     "text": [
      "Function some_function took 9.5367431640625e-07 seconds to execute\n"
     ]
    },
    {
     "data": {
      "text/plain": "'Done'"
     },
     "execution_count": 2,
     "metadata": {},
     "output_type": "execute_result"
    }
   ],
   "source": [
    "## Calling some_function like above will be the same as the following code\n",
    "import time\n",
    "\n",
    "def time_it(func):\n",
    "    def wrapper(*args, **kwargs):\n",
    "        start = time.time()\n",
    "        result = func(*args, **kwargs)\n",
    "        end = time.time()\n",
    "        print(f'Function {func.__name__} took {end - start} seconds to execute')\n",
    "        return result\n",
    "    return wrapper\n",
    "\n",
    "def some_function():\n",
    "    # Your code here\n",
    "    return \"Done\"\n",
    "\n",
    "time_it(some_function)()"
   ],
   "metadata": {
    "collapsed": false,
    "ExecuteTime": {
     "end_time": "2023-10-03T11:56:13.362157Z",
     "start_time": "2023-10-03T11:56:13.355421Z"
    }
   }
  },
  {
   "cell_type": "markdown",
   "source": [
    "Three essential facts make a good summary of decorators:\n",
    "- A decorator is a function or another callable.\n",
    "\n",
    "- A decorator may replace the decorated function with a different one.\n",
    "\n",
    "- Decorators are executed immediately when a module is loaded."
   ],
   "metadata": {
    "collapsed": false
   }
  },
  {
   "cell_type": "markdown",
   "source": [
    "## Closures"
   ],
   "metadata": {
    "collapsed": false
   }
  },
  {
   "cell_type": "code",
   "execution_count": 3,
   "outputs": [],
   "source": [
    "class Averager:\n",
    "\n",
    "    def __init__(self):\n",
    "        self.series = []\n",
    "\n",
    "    def __call__(self, new_value):\n",
    "        self.series.append(new_value)\n",
    "        total = sum(self.series)\n",
    "        return total / len(self.series)"
   ],
   "metadata": {
    "collapsed": false,
    "ExecuteTime": {
     "end_time": "2023-10-03T11:56:14.106254Z",
     "start_time": "2023-10-03T11:56:14.092412Z"
    }
   }
  },
  {
   "cell_type": "code",
   "execution_count": 4,
   "outputs": [],
   "source": [
    "avg = Averager()"
   ],
   "metadata": {
    "collapsed": false,
    "ExecuteTime": {
     "end_time": "2023-10-03T11:56:14.251177Z",
     "start_time": "2023-10-03T11:56:14.249714Z"
    }
   }
  },
  {
   "cell_type": "code",
   "execution_count": 5,
   "outputs": [
    {
     "data": {
      "text/plain": "<__main__.Averager at 0x105d9dc30>"
     },
     "execution_count": 5,
     "metadata": {},
     "output_type": "execute_result"
    }
   ],
   "source": [
    "avg"
   ],
   "metadata": {
    "collapsed": false,
    "ExecuteTime": {
     "end_time": "2023-10-03T11:56:14.420242Z",
     "start_time": "2023-10-03T11:56:14.417453Z"
    }
   }
  },
  {
   "cell_type": "code",
   "execution_count": 6,
   "outputs": [
    {
     "data": {
      "text/plain": "10.0"
     },
     "execution_count": 6,
     "metadata": {},
     "output_type": "execute_result"
    }
   ],
   "source": [
    "avg(10)"
   ],
   "metadata": {
    "collapsed": false,
    "ExecuteTime": {
     "end_time": "2023-10-03T11:56:14.590626Z",
     "start_time": "2023-10-03T11:56:14.588557Z"
    }
   }
  },
  {
   "cell_type": "code",
   "execution_count": 7,
   "outputs": [
    {
     "data": {
      "text/plain": "10.5"
     },
     "execution_count": 7,
     "metadata": {},
     "output_type": "execute_result"
    }
   ],
   "source": [
    "avg(11)"
   ],
   "metadata": {
    "collapsed": false,
    "ExecuteTime": {
     "end_time": "2023-10-03T11:56:14.765049Z",
     "start_time": "2023-10-03T11:56:14.760652Z"
    }
   }
  },
  {
   "cell_type": "markdown",
   "source": [
    "### Functional Implementation, using higher-order function"
   ],
   "metadata": {
    "collapsed": false
   }
  },
  {
   "cell_type": "code",
   "execution_count": 8,
   "outputs": [],
   "source": [
    "def make_averager():\n",
    "    series = []\n",
    "\n",
    "    def averager(new_value):\n",
    "        series.append(new_value)\n",
    "        total = sum(series)\n",
    "        return total / len(series)\n",
    "\n",
    "    return averager"
   ],
   "metadata": {
    "collapsed": false,
    "ExecuteTime": {
     "end_time": "2023-10-03T11:56:15.115984Z",
     "start_time": "2023-10-03T11:56:15.110856Z"
    }
   }
  },
  {
   "cell_type": "code",
   "execution_count": 9,
   "outputs": [],
   "source": [
    "avg = make_averager()"
   ],
   "metadata": {
    "collapsed": false,
    "ExecuteTime": {
     "end_time": "2023-10-03T11:56:15.501578Z",
     "start_time": "2023-10-03T11:56:15.499549Z"
    }
   }
  },
  {
   "cell_type": "code",
   "execution_count": 10,
   "outputs": [
    {
     "data": {
      "text/plain": "10.0"
     },
     "execution_count": 10,
     "metadata": {},
     "output_type": "execute_result"
    }
   ],
   "source": [
    "avg(10)"
   ],
   "metadata": {
    "collapsed": false,
    "ExecuteTime": {
     "end_time": "2023-10-03T11:56:15.814577Z",
     "start_time": "2023-10-03T11:56:15.811570Z"
    }
   }
  },
  {
   "cell_type": "code",
   "execution_count": 11,
   "outputs": [
    {
     "data": {
      "text/plain": "11.0"
     },
     "execution_count": 11,
     "metadata": {},
     "output_type": "execute_result"
    }
   ],
   "source": [
    "avg(12)"
   ],
   "metadata": {
    "collapsed": false,
    "ExecuteTime": {
     "end_time": "2023-10-03T11:56:16.217014Z",
     "start_time": "2023-10-03T11:56:16.205577Z"
    }
   }
  },
  {
   "cell_type": "markdown",
   "source": [
    "It’s obvious where the `avg` of the Averager class keeps the history: the `self.series` instance attribute. But where does the `avg` function in the second example find the series?\n",
    "\n",
    "Note that `series` is a local variable of `make_averager` because the assignment `series = []` happens in the body of that function. But when `avg(10)` is called, `make_averager` has already returned, and its local scope is long gone.\n",
    "\n",
    "Within `averager`, `series` is a free variable. This is a technical term meaning a variable that is not bound in the local scope\n",
    "\n",
    "Inspecting the returned `averager` object shows how Python keeps the names of local and free variables in the `__code__` attribute that represents the compiled body of the function"
   ],
   "metadata": {
    "collapsed": false
   }
  },
  {
   "cell_type": "code",
   "execution_count": 12,
   "outputs": [
    {
     "data": {
      "text/plain": "('series',)"
     },
     "execution_count": 12,
     "metadata": {},
     "output_type": "execute_result"
    }
   ],
   "source": [
    "avg.__code__.co_freevars"
   ],
   "metadata": {
    "collapsed": false,
    "ExecuteTime": {
     "end_time": "2023-10-03T11:56:17.472148Z",
     "start_time": "2023-10-03T11:56:17.466842Z"
    }
   }
  },
  {
   "cell_type": "code",
   "execution_count": 13,
   "outputs": [
    {
     "data": {
      "text/plain": "(<cell at 0x105d9cd00: list object at 0x105d4d4c0>,)"
     },
     "execution_count": 13,
     "metadata": {},
     "output_type": "execute_result"
    }
   ],
   "source": [
    "avg.__closure__"
   ],
   "metadata": {
    "collapsed": false,
    "ExecuteTime": {
     "end_time": "2023-10-03T11:56:17.886619Z",
     "start_time": "2023-10-03T11:56:17.879524Z"
    }
   }
  },
  {
   "cell_type": "code",
   "execution_count": 14,
   "outputs": [
    {
     "data": {
      "text/plain": "[10, 12]"
     },
     "execution_count": 14,
     "metadata": {},
     "output_type": "execute_result"
    }
   ],
   "source": [
    "avg.__closure__[0].cell_contents"
   ],
   "metadata": {
    "collapsed": false,
    "ExecuteTime": {
     "end_time": "2023-10-03T11:56:18.335874Z",
     "start_time": "2023-10-03T11:56:18.329639Z"
    }
   }
  },
  {
   "cell_type": "markdown",
   "source": [
    "To summarize: a closure is a function that retains the bindings of the free variables that exist when the function is defined, so that they can be used later when the function is invoked and the defining scope is no longer available."
   ],
   "metadata": {
    "collapsed": false
   }
  },
  {
   "cell_type": "markdown",
   "source": [
    "## The nonlocal Declaration"
   ],
   "metadata": {
    "collapsed": false
   }
  },
  {
   "cell_type": "markdown",
   "source": [
    "Our previous implementation of `make_averager` was not efficient. We stored all the values in the historical series and computed their sum every time averager was called. A better implementation would only store the total and the number of items so far, and compute the mean from these two numbers.\n",
    "\n",
    "`nonlocal` lets you declare a variable as a free variable even when it is assigned within the function. If a new value is assigned to a `nonlocal` variable, the binding stored in the closure is changed."
   ],
   "metadata": {
    "collapsed": false
   }
  },
  {
   "cell_type": "code",
   "execution_count": 15,
   "outputs": [],
   "source": [
    "def make_averager():\n",
    "    count = 0\n",
    "    total = 0\n",
    "\n",
    "    def averager(new_value):\n",
    "        nonlocal count, total\n",
    "        count += 1  # without nonlocal, this wouldn't work because count+=1 will\n",
    "        total += new_value # reassign the count variable with the averager scope\n",
    "        return total / count\n",
    "\n",
    "    return averager"
   ],
   "metadata": {
    "collapsed": false,
    "ExecuteTime": {
     "end_time": "2023-10-03T11:56:19.599134Z",
     "start_time": "2023-10-03T11:56:19.594312Z"
    }
   }
  },
  {
   "cell_type": "markdown",
   "source": [
    "### Variable Lookup Logic\n",
    "\n",
    "When a function is defined, the Python bytecode compiler determines how to fetch a variable x that appears in it, based on these rules:\n",
    "\n",
    "- If there is a global x declaration, x comes from and is assigned to the x global variable module.\n",
    "- If there is a nonlocal x declaration, x comes from and is assigned to the x local variable of the nearest surrounding function where x is defined.\n",
    "- If x is a parameter or is assigned a value in the function body, then x is the local variable.\n",
    "- If x is referenced but is not assigned and is not a parameter:\n",
    "    - x will be looked up in the local scopes of the surrounding function bodies (nonlocal scopes).\n",
    "    - If not found in surrounding scopes, it will be read from the module global scope.\n",
    "    - If not found in the global scope, it will be read from `__builtins__.__dict__.`\n",
    "\n",
    "Now that we have Python closures covered, we can effectively implement decorators with nested functions."
   ],
   "metadata": {
    "collapsed": false
   }
  },
  {
   "cell_type": "markdown",
   "source": [
    "## Parameterized Decorators"
   ],
   "metadata": {
    "collapsed": false
   }
  },
  {
   "cell_type": "code",
   "execution_count": 16,
   "outputs": [
    {
     "name": "stdout",
     "output_type": "stream",
     "text": [
      "running register(active=False)->decorate(<function f1 at 0x105db1ea0>)\n",
      "running register(active=False)->decorate(<function f2 at 0x105db1fc0>)\n"
     ]
    }
   ],
   "source": [
    "registry = set()\n",
    "\n",
    "def register(active=False):\n",
    "    def decorate(func):\n",
    "        print('running register'\n",
    "              f'(active={active})->decorate({func})')\n",
    "        if active:\n",
    "            registry.add(func)\n",
    "        else:\n",
    "            registry.discard(func)\n",
    "\n",
    "        return func\n",
    "    return decorate\n",
    "\n",
    "@register(active=False)\n",
    "def f1():\n",
    "    print('running f1()')\n",
    "\n",
    "@register()\n",
    "def f2():\n",
    "    print('running f2()')\n",
    "\n",
    "def f3():\n",
    "    print('running f3()')"
   ],
   "metadata": {
    "collapsed": false,
    "ExecuteTime": {
     "end_time": "2023-10-03T11:56:20.217264Z",
     "start_time": "2023-10-03T11:56:20.211686Z"
    }
   }
  },
  {
   "cell_type": "code",
   "execution_count": 17,
   "outputs": [
    {
     "name": "stdout",
     "output_type": "stream",
     "text": [
      "running f1()\n"
     ]
    }
   ],
   "source": [
    "f1()"
   ],
   "metadata": {
    "collapsed": false,
    "ExecuteTime": {
     "end_time": "2023-10-03T11:56:20.422982Z",
     "start_time": "2023-10-03T11:56:20.419751Z"
    }
   }
  },
  {
   "cell_type": "code",
   "execution_count": 18,
   "outputs": [
    {
     "name": "stdout",
     "output_type": "stream",
     "text": [
      "running f2()\n"
     ]
    },
    {
     "data": {
      "text/plain": "<function __main__.register.<locals>.decorate(func)>"
     },
     "execution_count": 18,
     "metadata": {},
     "output_type": "execute_result"
    }
   ],
   "source": [
    "register(f2())"
   ],
   "metadata": {
    "collapsed": false,
    "ExecuteTime": {
     "end_time": "2023-10-03T11:56:21.256961Z",
     "start_time": "2023-10-03T11:56:21.247387Z"
    }
   }
  },
  {
   "cell_type": "markdown",
   "source": [
    "f1 and f2 functions when being called will be passed to the `decorate` function inside `register` function instead because `register` function already have default parameter implemented. Hence, the f1 and f2 will be passed to the next available inner function inside `register`."
   ],
   "metadata": {
    "collapsed": false
   }
  },
  {
   "cell_type": "code",
   "execution_count": 65,
   "outputs": [],
   "source": [],
   "metadata": {
    "collapsed": false
   }
  }
 ],
 "metadata": {
  "kernelspec": {
   "display_name": "Python 3",
   "language": "python",
   "name": "python3"
  },
  "language_info": {
   "codemirror_mode": {
    "name": "ipython",
    "version": 2
   },
   "file_extension": ".py",
   "mimetype": "text/x-python",
   "name": "python",
   "nbconvert_exporter": "python",
   "pygments_lexer": "ipython2",
   "version": "2.7.6"
  }
 },
 "nbformat": 4,
 "nbformat_minor": 0
}
