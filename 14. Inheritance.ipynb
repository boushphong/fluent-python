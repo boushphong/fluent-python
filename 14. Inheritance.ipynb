{
 "cells": [
  {
   "cell_type": "markdown",
   "source": [
    "# Inheritance: For Better or for Worse"
   ],
   "metadata": {
    "collapsed": false
   }
  },
  {
   "cell_type": "code",
   "execution_count": 1,
   "outputs": [],
   "source": [
    "class Character:\n",
    "    def __init__(self, name, **kwargs):\n",
    "        self.name = name\n",
    "\n",
    "\n",
    "class Animal(Character):\n",
    "    def __init__(self, breed, **kwargs):\n",
    "        self.breed = breed\n",
    "        super().__init__(**kwargs)"
   ],
   "metadata": {
    "collapsed": false
   }
  },
  {
   "cell_type": "code",
   "execution_count": 2,
   "outputs": [],
   "source": [
    "dog = Animal(\"Corgi\", name=\"Rusty\")"
   ],
   "metadata": {
    "collapsed": false
   }
  },
  {
   "cell_type": "code",
   "execution_count": 3,
   "outputs": [
    {
     "name": "stdout",
     "output_type": "stream",
     "text": [
      "Rusty Corgi\n"
     ]
    }
   ],
   "source": [
    "print(dog.name, dog.breed)"
   ],
   "metadata": {
    "collapsed": false
   }
  },
  {
   "cell_type": "markdown",
   "source": [
    "## Subclassing Built-In Types Is Tricky"
   ],
   "metadata": {
    "collapsed": false
   }
  },
  {
   "cell_type": "code",
   "execution_count": 4,
   "outputs": [
    {
     "data": {
      "text/plain": "{'one': 1}"
     },
     "execution_count": 4,
     "metadata": {},
     "output_type": "execute_result"
    }
   ],
   "source": [
    "class DoppelDict(dict):\n",
    "    def __setitem__(self, key, value):\n",
    "        super().__setitem__(key, [value] * 2)\n",
    "\n",
    "dd = DoppelDict(one=1)\n",
    "dd"
   ],
   "metadata": {
    "collapsed": false
   }
  },
  {
   "cell_type": "code",
   "execution_count": 5,
   "outputs": [
    {
     "data": {
      "text/plain": "{'one': 1, 'two': [2, 2]}"
     },
     "execution_count": 5,
     "metadata": {},
     "output_type": "execute_result"
    }
   ],
   "source": [
    "dd['two'] = 2\n",
    "dd"
   ],
   "metadata": {
    "collapsed": false
   }
  },
  {
   "cell_type": "code",
   "execution_count": 6,
   "outputs": [
    {
     "data": {
      "text/plain": "{'one': 1, 'two': [2, 2], 'three': 3}"
     },
     "execution_count": 6,
     "metadata": {},
     "output_type": "execute_result"
    }
   ],
   "source": [
    "dd.update(three=3)\n",
    "dd"
   ],
   "metadata": {
    "collapsed": false
   }
  },
  {
   "cell_type": "markdown",
   "source": [
    "1. `DoppelDict.__setitem__` duplicates values when storing (for no good reason, just to have a visible effect). It works by delegating to the superclass.\n",
    "\n",
    "2. The `__init__` method inherited from dict clearly ignored that `__setitem__` was overridden: the value of 'one' is not duplicated.\n",
    "\n",
    "3. The [] operator calls our `__setitem__` and works as expected: 'two' maps to the duplicated value [2, 2].\n",
    "\n",
    "4. The update method from dict does not use our version of `__setitem__` either: the value of 'three' was not duplicated.\n",
    "\n",
    "This built-in behavior is a violation of a basic rule of object-oriented programming: the search for methods should always start from the class of the receiver (self), even when the call happens inside a method implemented in a superclass. This is what is called \"late binding\".\n",
    "\n",
    "The problem is not limited to calls within an instance—whether `self.get()` calls `self.__getitem__()` — but also happens with overridden methods of other classes that should be called by the built-in methods."
   ],
   "metadata": {
    "collapsed": false
   }
  },
  {
   "cell_type": "code",
   "execution_count": 7,
   "outputs": [
    {
     "data": {
      "text/plain": "{'a': 42}"
     },
     "execution_count": 7,
     "metadata": {},
     "output_type": "execute_result"
    }
   ],
   "source": [
    "class AnswerDict(dict):\n",
    "    def __getitem__(self, key):\n",
    "        return 42\n",
    "\n",
    "ad = AnswerDict(a='foo')\n",
    "ad"
   ],
   "metadata": {
    "collapsed": false
   }
  },
  {
   "cell_type": "code",
   "execution_count": 8,
   "outputs": [
    {
     "data": {
      "text/plain": "'foo'"
     },
     "execution_count": 8,
     "metadata": {},
     "output_type": "execute_result"
    }
   ],
   "source": [
    "d = {}\n",
    "d.update(ad)\n",
    "d['a']"
   ],
   "metadata": {
    "collapsed": false
   }
  },
  {
   "cell_type": "code",
   "execution_count": 9,
   "outputs": [
    {
     "data": {
      "text/plain": "{'a': 'foo'}"
     },
     "execution_count": 9,
     "metadata": {},
     "output_type": "execute_result"
    }
   ],
   "source": [
    "d"
   ],
   "metadata": {
    "collapsed": false
   }
  },
  {
   "cell_type": "markdown",
   "source": [
    "1. `AnswerDict.__getitem__` always returns 42, no matter what the key.\n",
    "\n",
    "2. ad is an `AnswerDict` loaded with the key-value pair ('a', 'foo').\n",
    "\n",
    "3. `ad['a']` returns 42, as expected.\n",
    "\n",
    "4. d is an instance of plain `dict`, which we update with `ad`.\n",
    "\n",
    "5. The `dict.update` method ignored our `AnswerDict.__getitem__`.\n",
    "\n",
    "### If you subclass collections.UserDict instead of dict, the issues above will be fixedd"
   ],
   "metadata": {
    "collapsed": false
   }
  },
  {
   "cell_type": "code",
   "execution_count": 10,
   "outputs": [
    {
     "data": {
      "text/plain": "{'one': [1, 1]}"
     },
     "execution_count": 10,
     "metadata": {},
     "output_type": "execute_result"
    }
   ],
   "source": [
    "import collections\n",
    "\n",
    "class DoppelDict2(collections.UserDict):\n",
    "    def __setitem__(self, key, value):\n",
    "        super().__setitem__(key, [value] * 2)\n",
    "\n",
    "dd = DoppelDict2(one=1)\n",
    "dd"
   ],
   "metadata": {
    "collapsed": false
   }
  },
  {
   "cell_type": "code",
   "execution_count": 11,
   "outputs": [
    {
     "data": {
      "text/plain": "{'one': [1, 1], 'two': [2, 2]}"
     },
     "execution_count": 11,
     "metadata": {},
     "output_type": "execute_result"
    }
   ],
   "source": [
    "dd['two'] = 2\n",
    "dd"
   ],
   "metadata": {
    "collapsed": false
   }
  },
  {
   "cell_type": "code",
   "execution_count": 12,
   "outputs": [
    {
     "data": {
      "text/plain": "{'one': [1, 1], 'two': [2, 2], 'three': [3, 3]}"
     },
     "execution_count": 12,
     "metadata": {},
     "output_type": "execute_result"
    }
   ],
   "source": [
    "dd.update(three=3)\n",
    "dd"
   ],
   "metadata": {
    "collapsed": false
   }
  },
  {
   "cell_type": "code",
   "execution_count": 13,
   "outputs": [
    {
     "data": {
      "text/plain": "42"
     },
     "execution_count": 13,
     "metadata": {},
     "output_type": "execute_result"
    }
   ],
   "source": [
    "class AnswerDict2(collections.UserDict):\n",
    "    def __getitem__(self, key):\n",
    "        return 42\n",
    "\n",
    "ad = AnswerDict2(a='foo')\n",
    "ad['a']"
   ],
   "metadata": {
    "collapsed": false
   }
  },
  {
   "cell_type": "code",
   "execution_count": 14,
   "outputs": [
    {
     "data": {
      "text/plain": "42"
     },
     "execution_count": 14,
     "metadata": {},
     "output_type": "execute_result"
    }
   ],
   "source": [
    "d = {}\n",
    "d.update(ad)\n",
    "d['a']"
   ],
   "metadata": {
    "collapsed": false
   }
  },
  {
   "cell_type": "code",
   "execution_count": 15,
   "outputs": [
    {
     "data": {
      "text/plain": "{'a': 42}"
     },
     "execution_count": 15,
     "metadata": {},
     "output_type": "execute_result"
    }
   ],
   "source": [
    "d"
   ],
   "metadata": {
    "collapsed": false
   }
  },
  {
   "cell_type": "markdown",
   "source": [
    "## Multiple Inheritance and Method Resolution Order"
   ],
   "metadata": {
    "collapsed": false
   }
  },
  {
   "cell_type": "code",
   "execution_count": 16,
   "outputs": [],
   "source": [
    "class Root:\n",
    "    def ping(self):\n",
    "        print(f'{self}.ping() in Root')\n",
    "\n",
    "    def pong(self):\n",
    "        print(f'{self}.pong() in Root')\n",
    "\n",
    "    def __repr__(self):\n",
    "        cls_name = type(self).__name__\n",
    "        return f'<instance of {cls_name}>'\n",
    "\n",
    "class A(Root):\n",
    "    def ping(self):\n",
    "        print(f'{self}.ping() in A')\n",
    "        super().ping()\n",
    "\n",
    "    def pong(self):\n",
    "        print(f'{self}.pong() in A')\n",
    "        super().pong()\n",
    "\n",
    "class B(Root):\n",
    "    def ping(self):\n",
    "        print(f'{self}.ping() in B')\n",
    "        super().ping()\n",
    "\n",
    "    def pong(self):\n",
    "        print(f'{self}.pong() in B')\n",
    "\n",
    "class U:\n",
    "    def ping(self):\n",
    "        print(f'{self}.ping() in U')\n",
    "        # super().ping()\n",
    "\n",
    "class Leaf(A, B):\n",
    "    def ping(self):\n",
    "        print(f'{self}.ping() in Leaf')\n",
    "        super().ping()\n",
    "\n",
    "class LeafUA(U, A):\n",
    "    def ping(self):\n",
    "        print(f'{self}.ping() in LeafUA')\n",
    "        super().ping()\n",
    "\n",
    "class LeafAU(A, U):\n",
    "    def ping(self):\n",
    "        print(f'{self}.ping() in LeafUA')\n",
    "        super().ping()\n",
    "\n",
    "class LeafAUB(A,U,B):\n",
    "    def ping(self):\n",
    "        print(f'{self}.ping() in LeafAUB')\n",
    "        super().ping()\n",
    "\n",
    "class LeafABU(A,B,U):\n",
    "    def ping(self):\n",
    "        print(f'{self}.ping() in LeafAUB')\n",
    "        super().ping()"
   ],
   "metadata": {
    "collapsed": false
   }
  },
  {
   "cell_type": "code",
   "execution_count": 17,
   "outputs": [
    {
     "name": "stdout",
     "output_type": "stream",
     "text": [
      "(<class '__main__.Leaf'>, <class '__main__.A'>, <class '__main__.B'>, <class '__main__.Root'>, <class 'object'>)\n",
      "<instance of Leaf>.ping() in Leaf\n",
      "<instance of Leaf>.ping() in A\n",
      "<instance of Leaf>.ping() in B\n",
      "<instance of Leaf>.ping() in Root\n"
     ]
    }
   ],
   "source": [
    "print(Leaf.__mro__)\n",
    "Leaf().ping()\n",
    "# Both A B inherits Root"
   ],
   "metadata": {
    "collapsed": false
   }
  },
  {
   "cell_type": "code",
   "execution_count": 18,
   "outputs": [
    {
     "name": "stdout",
     "output_type": "stream",
     "text": [
      "<instance of Leaf>.pong() in A\n",
      "<instance of Leaf>.pong() in B\n"
     ]
    }
   ],
   "source": [
    "Leaf().pong()\n",
    "# Both A B inherits Root but pong() in B doesn't have super() method hence it stops the Root call"
   ],
   "metadata": {
    "collapsed": false
   }
  },
  {
   "cell_type": "code",
   "execution_count": 19,
   "outputs": [
    {
     "name": "stdout",
     "output_type": "stream",
     "text": [
      "<instance of LeafUA>.ping() in LeafUA\n",
      "<instance of LeafUA>.ping() in U\n"
     ]
    }
   ],
   "source": [
    "LeafUA().ping()\n",
    "# U doesn't inherit Root but A does. However, since U starts first on the left. MRO will resolve in a way that U is a subclass of A. Hence U's super().ping() will call A"
   ],
   "metadata": {
    "collapsed": false
   }
  },
  {
   "cell_type": "code",
   "execution_count": 20,
   "outputs": [
    {
     "name": "stdout",
     "output_type": "stream",
     "text": [
      "(<class '__main__.LeafAU'>, <class '__main__.A'>, <class '__main__.Root'>, <class '__main__.U'>, <class 'object'>)\n",
      "<instance of LeafAU>.ping() in LeafUA\n",
      "<instance of LeafAU>.ping() in A\n",
      "<instance of LeafAU>.ping() in Root\n"
     ]
    }
   ],
   "source": [
    "print(LeafAU.__mro__)\n",
    "LeafAU().ping()\n",
    "# U doesn't inherit Root but A does. However, MRO will resolve A then the super().ping() from A immediately because U doesn't inherit Root on the same inheritance level as A"
   ],
   "metadata": {
    "collapsed": false
   }
  },
  {
   "cell_type": "code",
   "execution_count": 21,
   "outputs": [
    {
     "name": "stdout",
     "output_type": "stream",
     "text": [
      "(<class '__main__.LeafAUB'>, <class '__main__.A'>, <class '__main__.U'>, <class '__main__.B'>, <class '__main__.Root'>, <class 'object'>) \n",
      " (<class '__main__.LeafABU'>, <class '__main__.A'>, <class '__main__.B'>, <class '__main__.Root'>, <class '__main__.U'>, <class 'object'>)\n"
     ]
    }
   ],
   "source": [
    "print(LeafAUB.__mro__,\"\\n\", LeafABU.__mro__)"
   ],
   "metadata": {
    "collapsed": false
   }
  },
  {
   "cell_type": "markdown",
   "source": [
    "## Mixin Classes\n",
    "\n",
    "A mixin class is designed to be subclassed together with at least one other class in a multiple inheritance arrangement. A mixin is not supposed to be the only base class of a concrete class, because it does not provide all the functionality for a concrete object, but only adds or customizes the behavior of child or sibling classes.\n",
    "\n",
    "### Example"
   ],
   "metadata": {
    "collapsed": false
   }
  },
  {
   "cell_type": "code",
   "execution_count": 22,
   "outputs": [],
   "source": [
    "import collections\n",
    "\n",
    "def _upper(key):\n",
    "    try:\n",
    "        return key.upper()\n",
    "    except AttributeError:\n",
    "        return key\n",
    "\n",
    "class UpperCaseMixin:\n",
    "    def __setitem__(self, key, item):\n",
    "        super().__setitem__(_upper(key), item)\n",
    "\n",
    "    def __getitem__(self, key):\n",
    "        return super().__getitem__(_upper(key))\n",
    "\n",
    "    def get(self, key, default=None):\n",
    "        return super().get(_upper(key), default)\n",
    "\n",
    "    def __contains__(self, key):\n",
    "        return super().__contains__(_upper(key))"
   ],
   "metadata": {
    "collapsed": false
   }
  },
  {
   "cell_type": "markdown",
   "source": [
    "Since every method ot `UpperCaseMixin` calls `super()`, this mixin depends on a sibling class that implements or inherits methods with the same signature. To make its contribution, a mixin usually needs to appear before other classes in the MRO of a subclass that uses it.\n",
    "In practice, that means mixins must appear first in the tuple of base classes in a class declaration."
   ],
   "metadata": {
    "collapsed": false
   }
  },
  {
   "cell_type": "code",
   "execution_count": 23,
   "outputs": [],
   "source": [
    "class UpperDict(UpperCaseMixin, collections.UserDict):\n",
    "    pass\n",
    "\n",
    "class UpperCounter(UpperCaseMixin, collections.Counter):\n",
    "    \"\"\"Specialized 'Counter' that uppercases string keys\"\"\""
   ],
   "metadata": {
    "collapsed": false
   }
  },
  {
   "cell_type": "code",
   "execution_count": 24,
   "outputs": [
    {
     "data": {
      "text/plain": "KeysView({'A': 'letter A', 2: 'digit two'})"
     },
     "execution_count": 24,
     "metadata": {},
     "output_type": "execute_result"
    }
   ],
   "source": [
    "d = UpperDict([('a', 'letter A'), (2, 'digit two')])\n",
    "d.keys()"
   ],
   "metadata": {
    "collapsed": false
   }
  },
  {
   "cell_type": "code",
   "execution_count": 25,
   "outputs": [
    {
     "data": {
      "text/plain": "True"
     },
     "execution_count": 25,
     "metadata": {},
     "output_type": "execute_result"
    }
   ],
   "source": [
    "d['b'] = 'letter B'\n",
    "'b' in d"
   ],
   "metadata": {
    "collapsed": false
   }
  },
  {
   "cell_type": "code",
   "execution_count": 26,
   "outputs": [
    {
     "data": {
      "text/plain": "('letter A', 'letter B')"
     },
     "execution_count": 26,
     "metadata": {},
     "output_type": "execute_result"
    }
   ],
   "source": [
    "d['a'], d.get('B')"
   ],
   "metadata": {
    "collapsed": false
   }
  },
  {
   "cell_type": "code",
   "execution_count": 27,
   "outputs": [
    {
     "data": {
      "text/plain": "['A', 2, 'B']"
     },
     "execution_count": 27,
     "metadata": {},
     "output_type": "execute_result"
    }
   ],
   "source": [
    "list(d.keys())"
   ],
   "metadata": {
    "collapsed": false
   }
  },
  {
   "cell_type": "code",
   "execution_count": 28,
   "outputs": [
    {
     "data": {
      "text/plain": "[('A', 3), ('N', 2), ('B', 1)]"
     },
     "execution_count": 28,
     "metadata": {},
     "output_type": "execute_result"
    }
   ],
   "source": [
    "# And a quick demonstration of UpperCounter:\n",
    "c = UpperCounter('BaNanA')\n",
    "c.most_common()"
   ],
   "metadata": {
    "collapsed": false
   }
  },
  {
   "cell_type": "markdown",
   "source": [
    "## Favor Object Composition over Class Inheritance\n",
    "Subclassing is a form of tight coupling, and tall inheritance trees tend to be brittle.\n",
    "\n",
    "When dealing with multiple inheritance, it’s useful to keep straight the reasons why subclassing is done in each particular case. The main reasons are:\n",
    "\n",
    "- Inheritance of interface creates a subtype, implying an “is-a” relationship. This is best done with ABCs.\n",
    "- Inheritance of implementation avoids code duplication by reuse. Mixins can help with this.\n",
    "\n",
    "Interface inheritance should use only ABCs as base classes, if possible.\n",
    "\n",
    "### Make Interfaces Explicit with ABCs\n",
    "\n",
    "In modern Python, if a class is intended to define an interface, it should be an explicit ABC or a `typing.Protocol` subclass\n",
    "\n",
    "## Use Explicit Mixins for Code Reuse\n",
    "\n",
    "If a class is designed to provide method implementations for reuse by multiple unrelated subclasses, without implying an “is-a” relationship, it should be an explicit mixin class. Conceptually, a mixin does not define a new type; it merely bundles methods for reuse. A mixin should never be instantiated, and concrete classes should not inherit only from a mixin. Each mixin should provide a single specific behavior, implementing few and very closely related methods. Mixins should avoid keeping any internal state; i.e., a mixin class should not have instance attributes.\n",
    "\n",
    "## Aggregate Classes to Users\n",
    "\n",
    "A class that is constructed primarily by inheriting from mixins and does not add its own structure or behavior is called an aggregate class.\n",
    "\n",
    "If some combination of ABCs or mixins is particularly useful to client code, provide a class that brings them together in a sensible way.\n",
    "\n",
    "For example, here is the complete source code for the Django `ListView` class\n",
    "\n",
    "```python\n",
    "class ListView(MultipleObjectTemplateResponseMixin, BaseListView):\n",
    "    \"\"\"\n",
    "    Render some list of objects, set by `self.model` or `self.queryset`.\n",
    "    `self.queryset` can actually be any iterable of items, not just a queryset.\n",
    "    \"\"\"\n",
    "```\n",
    "\n",
    "The body of `ListView` is empty, but the class provides a useful service: it brings together a mixin and a base class that should be used together.\n",
    "\n",
    "__Note__ that aggregate classes don’t have to be completely empty, but they often are.\n",
    "\n",
    "## Subclass Only Classes Designed for Subclassing\n",
    "\n",
    "Subclassing any complex class and overriding its methods is error-prone because the superclass methods may ignore the subclass overrides in unexpected ways. As much as possible, avoid overriding methods, or at least restrain yourself to subclassing classes which are designed to be easily extended, and only in the ways in which they were designed to be extended.\n",
    "\n",
    "How do we know whether or how a class was designed to be extended? The answer is Documentation.\n",
    "For example, Python’s `socketserver` package is described as “a framework for network servers.” Its `BaseServer` class is designed for subclassing, as the name suggests.\n",
    "\n",
    "In Python ≥ 3.8, a new way of making those design constraints explicit is provided by PEP 591—Adding a final qualifier to typing. The PEP introduces a `@final` decorator that can be applied to classes or individual methods, so that IDEs or type checkers can report misguided attempts to subclass those classes or override those methods.\n",
    "\n",
    "## Avoid Subclassing from Concrete Classes\n",
    "\n",
    "Subclassing concrete classes is more dangerous than subclassing ABCs and mixins, because instances of concrete classes usually have internal state that can easily be corrupted when you override methods that depend on that state. Even if your methods cooperate by calling `super()`, and the internal state is held in private attributes using the `__x` syntax, there are still countless ways a method override can introduce bugs.\n",
    "\n",
    "In other words, it is recommended that only abstract classes should be subclassed. If you must use subclassing for code reuse, then the code intended for reuse should be in mixin methods of ABCs or in explicitly named mixin classes."
   ],
   "metadata": {
    "collapsed": false
   }
  },
  {
   "cell_type": "code",
   "execution_count": 28,
   "outputs": [],
   "source": [],
   "metadata": {
    "collapsed": false
   }
  }
 ],
 "metadata": {
  "kernelspec": {
   "display_name": "Python 3",
   "language": "python",
   "name": "python3"
  },
  "language_info": {
   "codemirror_mode": {
    "name": "ipython",
    "version": 2
   },
   "file_extension": ".py",
   "mimetype": "text/x-python",
   "name": "python",
   "nbconvert_exporter": "python",
   "pygments_lexer": "ipython2",
   "version": "2.7.6"
  }
 },
 "nbformat": 4,
 "nbformat_minor": 0
}
