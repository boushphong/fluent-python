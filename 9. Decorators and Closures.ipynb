{
 "cells": [
  {
   "cell_type": "markdown",
   "metadata": {},
   "source": [
    "## Decorators and Closures"
   ]
  },
  {
   "cell_type": "code",
   "execution_count": 1,
   "metadata": {
    "ExecuteTime": {
     "end_time": "2023-10-03T12:17:42.124964Z",
     "start_time": "2023-10-03T12:17:42.113381Z"
    }
   },
   "outputs": [
    {
     "name": "stdout",
     "output_type": "stream",
     "text": [
      "Function some_function took 0.0 seconds to execute\n"
     ]
    },
    {
     "data": {
      "text/plain": [
       "'Done'"
      ]
     },
     "execution_count": 1,
     "metadata": {},
     "output_type": "execute_result"
    }
   ],
   "source": [
    "import time\n",
    "\n",
    "def time_it(func):\n",
    "    def wrapper(*args, **kwargs):\n",
    "        start = time.time()\n",
    "        result = func(*args, **kwargs)\n",
    "        end = time.time()\n",
    "        print(f'Function {func.__name__} took {end - start} seconds to execute')\n",
    "        return result\n",
    "    return wrapper\n",
    "\n",
    "@time_it\n",
    "def some_function():\n",
    "    # Your code here\n",
    "    return \"Done\"\n",
    "\n",
    "some_function()"
   ]
  },
  {
   "cell_type": "code",
   "execution_count": 2,
   "metadata": {
    "ExecuteTime": {
     "end_time": "2023-10-03T12:17:55.346498Z",
     "start_time": "2023-10-03T12:17:55.340107Z"
    }
   },
   "outputs": [
    {
     "name": "stdout",
     "output_type": "stream",
     "text": [
      "Function some_function took 9.5367431640625e-07 seconds to execute\n"
     ]
    },
    {
     "data": {
      "text/plain": [
       "'Done'"
      ]
     },
     "execution_count": 2,
     "metadata": {},
     "output_type": "execute_result"
    }
   ],
   "source": [
    "## Calling some_function like above will be the same as the following code\n",
    "import time\n",
    "\n",
    "def time_it(func):\n",
    "    def wrapper(*args, **kwargs):\n",
    "        start = time.time()\n",
    "        result = func(*args, **kwargs)\n",
    "        end = time.time()\n",
    "        print(f'Function {func.__name__} took {end - start} seconds to execute')\n",
    "        return result\n",
    "    return wrapper\n",
    "\n",
    "def some_function():\n",
    "    # Your code here\n",
    "    return \"Done\"\n",
    "\n",
    "time_it(some_function)()"
   ]
  },
  {
   "cell_type": "code",
   "execution_count": 3,
   "metadata": {},
   "outputs": [
    {
     "name": "stdout",
     "output_type": "stream",
     "text": [
      "Car(make=Toyota, model=Corolla, year=2029)\n"
     ]
    }
   ],
   "source": [
    "def builder(cls):\n",
    "    class Builder:\n",
    "        def __init__(self):\n",
    "            self._instance = cls()\n",
    "\n",
    "        def __getattr__(self, name):\n",
    "            def wrapper(value):\n",
    "                setattr(self._instance, name, value)\n",
    "                return self\n",
    "\n",
    "            return wrapper\n",
    "\n",
    "        def build(self):\n",
    "            return self._instance\n",
    "\n",
    "    return Builder\n",
    "\n",
    "\n",
    "@builder\n",
    "class Car:\n",
    "    def __init__(self):\n",
    "        self.make = None\n",
    "        self.model = None\n",
    "        self.year = None\n",
    "\n",
    "    def __str__(self):\n",
    "        return f'Car(make={self.make}, model={self.model}, year={self.year})'\n",
    "\n",
    "\n",
    "car = Car() \\\n",
    "      .make('Toyota') \\\n",
    "      .model('Corolla') \\\n",
    "      .year(2029) \\\n",
    "      .build()\n",
    "print(car)"
   ]
  },
  {
   "cell_type": "code",
   "execution_count": 4,
   "metadata": {},
   "outputs": [
    {
     "name": "stdout",
     "output_type": "stream",
     "text": [
      "Car(make=Toyota, model=Corolla, year=2029)\n"
     ]
    }
   ],
   "source": [
    "# Same as above\n",
    "def builder(cls):\n",
    "    class Builder:\n",
    "        def __init__(self):\n",
    "            self._instance = cls()\n",
    "\n",
    "        def __getattr__(self, name):\n",
    "            def wrapper(value):\n",
    "                setattr(self._instance, name, value)\n",
    "                return self\n",
    "\n",
    "            return wrapper\n",
    "\n",
    "        def build(self):\n",
    "            return self._instance\n",
    "\n",
    "    return Builder\n",
    "\n",
    "\n",
    "class Car:\n",
    "    def __init__(self):\n",
    "        self.make = None\n",
    "        self.model = None\n",
    "        self.year = None\n",
    "\n",
    "    def __str__(self):\n",
    "        return f'Car(make={self.make}, model={self.model}, year={self.year})'\n",
    "    \n",
    "\n",
    "car_builder = builder(Car)\n",
    "car = car_builder() \\\n",
    "      .make('Toyota') \\\n",
    "      .model('Corolla') \\\n",
    "      .year(2029) \\\n",
    "      .build()\n",
    "print(car)"
   ]
  },
  {
   "cell_type": "markdown",
   "metadata": {
    "ExecuteTime": {
     "end_time": "2023-10-03T12:19:03.699838Z",
     "start_time": "2023-10-03T12:19:03.695145Z"
    }
   },
   "source": [
    "Three essential facts make a good summary of decorators:\n",
    "- A decorator is a function or another callable.\n",
    "\n",
    "- A decorator may replace the decorated function with a different one.\n",
    "\n",
    "- Decorators are executed immediately when a module is loaded."
   ]
  },
  {
   "cell_type": "markdown",
   "metadata": {
    "ExecuteTime": {
     "end_time": "2023-10-03T12:18:50.963247Z",
     "start_time": "2023-10-03T12:18:50.959688Z"
    }
   },
   "source": [
    "## Closures"
   ]
  },
  {
   "cell_type": "code",
   "execution_count": 5,
   "metadata": {
    "ExecuteTime": {
     "end_time": "2023-10-03T12:19:00.893424Z",
     "start_time": "2023-10-03T12:19:00.889273Z"
    }
   },
   "outputs": [],
   "source": [
    "class Averager:\n",
    "\n",
    "    def __init__(self):\n",
    "        self.series = []\n",
    "\n",
    "    def __call__(self, new_value):\n",
    "        self.series.append(new_value)\n",
    "        total = sum(self.series)\n",
    "        return total / len(self.series)"
   ]
  },
  {
   "cell_type": "code",
   "execution_count": 6,
   "metadata": {
    "ExecuteTime": {
     "end_time": "2023-10-03T11:56:14.251177Z",
     "start_time": "2023-10-03T11:56:14.249714Z"
    }
   },
   "outputs": [],
   "source": [
    "avg = Averager()"
   ]
  },
  {
   "cell_type": "code",
   "execution_count": 7,
   "metadata": {
    "ExecuteTime": {
     "end_time": "2023-10-03T12:18:37.688212Z",
     "start_time": "2023-10-03T12:18:37.678826Z"
    }
   },
   "outputs": [
    {
     "data": {
      "text/plain": [
       "<__main__.Averager at 0x105f12fb0>"
      ]
     },
     "execution_count": 7,
     "metadata": {},
     "output_type": "execute_result"
    }
   ],
   "source": [
    "avg"
   ]
  },
  {
   "cell_type": "code",
   "execution_count": 8,
   "metadata": {
    "ExecuteTime": {
     "end_time": "2023-10-03T12:18:38.596097Z",
     "start_time": "2023-10-03T12:18:38.592398Z"
    }
   },
   "outputs": [
    {
     "data": {
      "text/plain": [
       "10.0"
      ]
     },
     "execution_count": 8,
     "metadata": {},
     "output_type": "execute_result"
    }
   ],
   "source": [
    "avg(10)"
   ]
  },
  {
   "cell_type": "code",
   "execution_count": 9,
   "metadata": {
    "ExecuteTime": {
     "end_time": "2023-10-03T12:18:39.841276Z",
     "start_time": "2023-10-03T12:18:39.837676Z"
    }
   },
   "outputs": [
    {
     "data": {
      "text/plain": [
       "10.5"
      ]
     },
     "execution_count": 9,
     "metadata": {},
     "output_type": "execute_result"
    }
   ],
   "source": [
    "avg(11)"
   ]
  },
  {
   "cell_type": "markdown",
   "metadata": {
    "ExecuteTime": {
     "end_time": "2023-10-03T12:18:40.891769Z",
     "start_time": "2023-10-03T12:18:40.888173Z"
    }
   },
   "source": [
    "### Functional Implementation, using higher-order function"
   ]
  },
  {
   "cell_type": "code",
   "execution_count": 10,
   "metadata": {
    "ExecuteTime": {
     "end_time": "2023-10-03T12:18:42.312581Z",
     "start_time": "2023-10-03T12:18:42.296007Z"
    }
   },
   "outputs": [],
   "source": [
    "def make_averager():\n",
    "    series = []\n",
    "\n",
    "    def averager(new_value):\n",
    "        series.append(new_value)\n",
    "        total = sum(series)\n",
    "        return total / len(series)\n",
    "\n",
    "    return averager"
   ]
  },
  {
   "cell_type": "code",
   "execution_count": 11,
   "metadata": {
    "ExecuteTime": {
     "end_time": "2023-10-03T11:56:15.501578Z",
     "start_time": "2023-10-03T11:56:15.499549Z"
    }
   },
   "outputs": [],
   "source": [
    "avg = make_averager()"
   ]
  },
  {
   "cell_type": "code",
   "execution_count": 12,
   "metadata": {
    "ExecuteTime": {
     "end_time": "2023-10-03T12:18:44.218216Z",
     "start_time": "2023-10-03T12:18:44.213158Z"
    }
   },
   "outputs": [
    {
     "data": {
      "text/plain": [
       "10.0"
      ]
     },
     "execution_count": 12,
     "metadata": {},
     "output_type": "execute_result"
    }
   ],
   "source": [
    "avg(10)"
   ]
  },
  {
   "cell_type": "code",
   "execution_count": 13,
   "metadata": {
    "ExecuteTime": {
     "end_time": "2023-10-03T12:18:44.836473Z",
     "start_time": "2023-10-03T12:18:44.833022Z"
    }
   },
   "outputs": [
    {
     "data": {
      "text/plain": [
       "11.0"
      ]
     },
     "execution_count": 13,
     "metadata": {},
     "output_type": "execute_result"
    }
   ],
   "source": [
    "avg(12)"
   ]
  },
  {
   "cell_type": "markdown",
   "metadata": {
    "ExecuteTime": {
     "end_time": "2023-10-03T12:18:45.428727Z",
     "start_time": "2023-10-03T12:18:45.426334Z"
    }
   },
   "source": [
    "It’s obvious where the `avg` of the Averager class keeps the history: the `self.series` instance attribute. But where does the `avg` function in the second example find the series?\n",
    "\n",
    "Note that `series` is a local variable of `make_averager` because the assignment `series = []` happens in the body of that function. But when `avg(10)` is called, `make_averager` has already returned, and its local scope is long gone.\n",
    "\n",
    "Within `averager`, `series` is a free variable. This is a technical term meaning a variable that is not bound in the local scope\n",
    "\n",
    "Inspecting the returned `averager` object shows how Python keeps the names of local and free variables in the `__code__` attribute that represents the compiled body of the function"
   ]
  },
  {
   "cell_type": "code",
   "execution_count": 14,
   "metadata": {
    "ExecuteTime": {
     "end_time": "2023-10-03T12:18:45.996160Z",
     "start_time": "2023-10-03T12:18:45.988274Z"
    }
   },
   "outputs": [
    {
     "data": {
      "text/plain": [
       "('series',)"
      ]
     },
     "execution_count": 14,
     "metadata": {},
     "output_type": "execute_result"
    }
   ],
   "source": [
    "avg.__code__.co_freevars"
   ]
  },
  {
   "cell_type": "code",
   "execution_count": 15,
   "metadata": {
    "ExecuteTime": {
     "end_time": "2023-10-03T11:56:17.886619Z",
     "start_time": "2023-10-03T11:56:17.879524Z"
    }
   },
   "outputs": [
    {
     "data": {
      "text/plain": [
       "(<cell at 0x105f13610: list object at 0x105f5b580>,)"
      ]
     },
     "execution_count": 15,
     "metadata": {},
     "output_type": "execute_result"
    }
   ],
   "source": [
    "avg.__closure__"
   ]
  },
  {
   "cell_type": "code",
   "execution_count": 16,
   "metadata": {
    "ExecuteTime": {
     "end_time": "2023-10-03T11:56:18.335874Z",
     "start_time": "2023-10-03T11:56:18.329639Z"
    }
   },
   "outputs": [
    {
     "data": {
      "text/plain": [
       "[10, 12]"
      ]
     },
     "execution_count": 16,
     "metadata": {},
     "output_type": "execute_result"
    }
   ],
   "source": [
    "avg.__closure__[0].cell_contents"
   ]
  },
  {
   "cell_type": "markdown",
   "metadata": {},
   "source": [
    "To summarize: a closure is a function that retains the bindings of the free variables that exist when the function is defined, so that they can be used later when the function is invoked and the defining scope is no longer available."
   ]
  },
  {
   "cell_type": "markdown",
   "metadata": {},
   "source": [
    "## The nonlocal Declaration"
   ]
  },
  {
   "cell_type": "markdown",
   "metadata": {},
   "source": [
    "Our previous implementation of `make_averager` was not efficient. We stored all the values in the historical series and computed their sum every time averager was called. A better implementation would only store the total and the number of items so far, and compute the mean from these two numbers.\n",
    "\n",
    "`nonlocal` lets you declare a variable as a free variable even when it is assigned within the function. If a new value is assigned to a `nonlocal` variable, the binding stored in the closure is changed."
   ]
  },
  {
   "cell_type": "code",
   "execution_count": 17,
   "metadata": {
    "ExecuteTime": {
     "end_time": "2023-10-03T11:56:19.599134Z",
     "start_time": "2023-10-03T11:56:19.594312Z"
    }
   },
   "outputs": [],
   "source": [
    "def make_averager():\n",
    "    count = 0\n",
    "    total = 0\n",
    "\n",
    "    def averager(new_value):\n",
    "        nonlocal count, total\n",
    "        count += 1  # without nonlocal, this wouldn't work because count+=1 will\n",
    "        total += new_value # reassign the count variable with the averager scope\n",
    "        return total / count\n",
    "\n",
    "    return averager"
   ]
  },
  {
   "cell_type": "markdown",
   "metadata": {},
   "source": [
    "### Variable Lookup Logic\n",
    "\n",
    "When a function is defined, the Python bytecode compiler determines how to fetch a variable x that appears in it, based on these rules:\n",
    "\n",
    "- If there is a global x declaration, x comes from and is assigned to the x global variable module.\n",
    "- If there is a nonlocal x declaration, x comes from and is assigned to the x local variable of the nearest surrounding function where x is defined.\n",
    "- If x is a parameter or is assigned a value in the function body, then x is the local variable.\n",
    "- If x is referenced but is not assigned and is not a parameter:\n",
    "    - x will be looked up in the local scopes of the surrounding function bodies (nonlocal scopes).\n",
    "    - If not found in surrounding scopes, it will be read from the module global scope.\n",
    "    - If not found in the global scope, it will be read from `__builtins__.__dict__.`\n",
    "\n",
    "Now that we have Python closures covered, we can effectively implement decorators with nested functions."
   ]
  },
  {
   "cell_type": "markdown",
   "metadata": {},
   "source": [
    "## Parameterized Decorators"
   ]
  },
  {
   "cell_type": "code",
   "execution_count": 18,
   "metadata": {
    "ExecuteTime": {
     "end_time": "2023-10-03T11:56:20.217264Z",
     "start_time": "2023-10-03T11:56:20.211686Z"
    }
   },
   "outputs": [
    {
     "name": "stdout",
     "output_type": "stream",
     "text": [
      "running register(active=False)->decorate(<function f1 at 0x105f41480>)\n",
      "running register(active=False)->decorate(<function f2 at 0x105f40160>)\n"
     ]
    }
   ],
   "source": [
    "registry = set()\n",
    "\n",
    "def register(active=False):\n",
    "    def decorate(func):\n",
    "        print('running register'\n",
    "              f'(active={active})->decorate({func})')\n",
    "        if active:\n",
    "            registry.add(func)\n",
    "        else:\n",
    "            registry.discard(func)\n",
    "\n",
    "        return func\n",
    "    return decorate\n",
    "\n",
    "@register(active=False)\n",
    "def f1():\n",
    "    print('running f1()')\n",
    "\n",
    "@register()\n",
    "def f2():\n",
    "    print('running f2()')\n",
    "\n",
    "def f3():\n",
    "    print('running f3()')"
   ]
  },
  {
   "cell_type": "code",
   "execution_count": 19,
   "metadata": {
    "ExecuteTime": {
     "end_time": "2023-10-03T11:56:20.422982Z",
     "start_time": "2023-10-03T11:56:20.419751Z"
    }
   },
   "outputs": [
    {
     "name": "stdout",
     "output_type": "stream",
     "text": [
      "running f1()\n"
     ]
    }
   ],
   "source": [
    "f1()"
   ]
  },
  {
   "cell_type": "code",
   "execution_count": 20,
   "metadata": {
    "ExecuteTime": {
     "end_time": "2023-10-03T11:56:21.256961Z",
     "start_time": "2023-10-03T11:56:21.247387Z"
    }
   },
   "outputs": [
    {
     "name": "stdout",
     "output_type": "stream",
     "text": [
      "running f2()\n"
     ]
    },
    {
     "data": {
      "text/plain": [
       "<function __main__.register.<locals>.decorate(func)>"
      ]
     },
     "execution_count": 20,
     "metadata": {},
     "output_type": "execute_result"
    }
   ],
   "source": [
    "register(f2())"
   ]
  },
  {
   "cell_type": "markdown",
   "metadata": {},
   "source": [
    "f1 and f2 functions when being called will be passed to the `decorate` function inside `register` function instead because `register` function already have default parameter implemented. Hence, the f1 and f2 will be passed to the next available inner function inside `register`."
   ]
  }
 ],
 "metadata": {
  "kernelspec": {
   "display_name": "Python 3 (ipykernel)",
   "language": "python",
   "name": "python3"
  },
  "language_info": {
   "codemirror_mode": {
    "name": "ipython",
    "version": 3
   },
   "file_extension": ".py",
   "mimetype": "text/x-python",
   "name": "python",
   "nbconvert_exporter": "python",
   "pygments_lexer": "ipython3",
   "version": "3.10.12"
  }
 },
 "nbformat": 4,
 "nbformat_minor": 1
}
